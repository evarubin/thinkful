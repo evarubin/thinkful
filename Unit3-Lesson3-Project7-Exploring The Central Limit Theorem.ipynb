{
 "cells": [
  {
   "cell_type": "markdown",
   "metadata": {},
   "source": [
    "## Exploring The Central Limit Theorem (and How to do T-tests)\n",
    "###Notes first, project below"
   ]
  },
  {
   "cell_type": "code",
   "execution_count": 23,
   "metadata": {},
   "outputs": [],
   "source": [
    "import numpy as np\n",
    "import pandas as pd\n",
    "import scipy\n",
    "from scipy.stats import ttest_ind\n",
    "import matplotlib.pyplot as plt\n",
    "%matplotlib inline"
   ]
  },
  {
   "cell_type": "code",
   "execution_count": 2,
   "metadata": {},
   "outputs": [],
   "source": [
    "#group 1: p of 0.2, n=10, and 10000 datapoints\n",
    "#group 2: p of 0.5, n=10, and 10000 datapoints\n",
    "# QUESTION: The true population difference between the two populations is 0.3 What does this mean?"
   ]
  },
  {
   "cell_type": "code",
   "execution_count": 3,
   "metadata": {},
   "outputs": [],
   "source": [
    "#Define the populations\n",
    "pop1 = np.random.binomial(10, 0.2, 10000)\n",
    "pop2 = np.random.binomial(10,0.5, 10000)"
   ]
  },
  {
   "cell_type": "code",
   "execution_count": 4,
   "metadata": {},
   "outputs": [
    {
     "data": {
      "image/png": "[encoded data removed]",
      "text/plain": [
       "<Figure size 432x288 with 1 Axes>"
      ]
     },
     "metadata": {},
     "output_type": "display_data"
    }
   ],
   "source": [
    "# Histograms for pop 1 and pop 2. \n",
    "\n",
    "plt.hist(pop1, alpha=0.5, label='Population 1') \n",
    "plt.hist(pop2, alpha=0.5, label='Population 2') \n",
    "plt.legend(loc='upper right') \n",
    "plt.show()"
   ]
  },
  {
   "cell_type": "code",
   "execution_count": 5,
   "metadata": {},
   "outputs": [],
   "source": [
    "# Get samples from each population\n",
    "sample1 = np.random.choice(pop1, 100, replace=True)\n",
    "sample2 = np.random.choice(pop2, 100, replace=True)"
   ]
  },
  {
   "cell_type": "code",
   "execution_count": 7,
   "metadata": {},
   "outputs": [
    {
     "data": {
      "image/png": "[encoded data removed]",
      "text/plain": [
       "<Figure size 432x288 with 1 Axes>"
      ]
     },
     "metadata": {},
     "output_type": "display_data"
    }
   ],
   "source": [
    "# Histograms for sample1 of pop1 and sample2 of pop2\n",
    "plt.hist(sample1, alpha=0.5, label='sample 1') \n",
    "plt.hist(sample2, alpha=0.5, label='sample 2') \n",
    "plt.legend(loc='upper right') \n",
    "plt.show()"
   ]
  },
  {
   "cell_type": "code",
   "execution_count": null,
   "metadata": {},
   "outputs": [],
   "source": [
    "# T-test: the long way around"
   ]
  },
  {
   "cell_type": "code",
   "execution_count": 9,
   "metadata": {},
   "outputs": [],
   "source": [
    "# mean = n * p\n",
    "# mean = number of repetitions (n) * probability of an event occurring (p)\n",
    "# p for each sample =  divide by n (was set to 10 when generating the populations)\n",
    "# p = mean / n"
   ]
  },
  {
   "cell_type": "code",
   "execution_count": 13,
   "metadata": {},
   "outputs": [
    {
     "name": "stdout",
     "output_type": "stream",
     "text": [
      "Sample 1 mean:  1.87\n",
      "Sample 2 mean:  5.36\n",
      "Sample 1 std:  1.2621806526801145\n",
      "Sample 2 std:  1.7350504315437059\n"
     ]
    }
   ],
   "source": [
    "# get mean and standard deviation\n",
    "print(\"Sample 1 mean: \", sample1.mean())\n",
    "print(\"Sample 2 mean: \", sample2.mean())\n",
    "print(\"Sample 1 std: \", sample1.std())\n",
    "print(\"Sample 2 std: \", sample2.std())"
   ]
  },
  {
   "cell_type": "code",
   "execution_count": 64,
   "metadata": {},
   "outputs": [
    {
     "name": "stdout",
     "output_type": "stream",
     "text": [
      "Sample 2 mean - Sample 1 mean:  3.49\n"
     ]
    }
   ],
   "source": [
    "# Compute the difference between the two sample means.\n",
    "# look at the size of the difference in means in the context of the combined variance of the two samples.\n",
    "diff=sample2.mean() -sample1.mean()\n",
    "print(\"Sample 2 mean - Sample 1 mean: \", diff)"
   ]
  },
  {
   "cell_type": "code",
   "execution_count": 16,
   "metadata": {},
   "outputs": [],
   "source": [
    "# Calculate standard error of sampling distribution of the difference of the means\n",
    "\n",
    "# 1. create an array with the size of each variable\n",
    "size = np.array([len(sample1), len(sample2)])\n",
    "\n",
    "# 2. create an array with standard deviation of each variable\n",
    "sd = np.array([sample1.std(), sample2.std()])"
   ]
  },
  {
   "cell_type": "code",
   "execution_count": 21,
   "metadata": {},
   "outputs": [
    {
     "name": "stdout",
     "output_type": "stream",
     "text": [
      "The difference in standard error between sample1 and sample2:  0.21455768455126464\n"
     ]
    }
   ],
   "source": [
    "# The squared standard deviations are divided by the sample size and summed, then we take\n",
    "# the square root of the sum.\n",
    "# square root(squared standard deviation sample 1 / sample size) + (squared standard deviation sample 2 / sample size))\n",
    "diff_standard_error = (sum(sd ** 2 / size)) ** 0.5\n",
    "print(\"The difference in standard error between sample1 and sample2: \", diff_standard_error)"
   ]
  },
  {
   "cell_type": "code",
   "execution_count": 22,
   "metadata": {},
   "outputs": [
    {
     "name": "stdout",
     "output_type": "stream",
     "text": [
      "T value:  16.266021919928615\n"
     ]
    }
   ],
   "source": [
    "#Get the T-value: sample2 mean - sample1 mean / standard error \n",
    "print(\"T value: \", diff/diff_standard_error)"
   ]
  },
  {
   "cell_type": "code",
   "execution_count": null,
   "metadata": {},
   "outputs": [],
   "source": [
    "# T-test: the short way around:\n",
    "#make sure that I'm not mixing apples/oranges with how it's calculated depending on package\n",
    "#pandas t test, vs. scipy t test, vs manually doing the t-test"
   ]
  },
  {
   "cell_type": "code",
   "execution_count": 24,
   "metadata": {},
   "outputs": [
    {
     "name": "stdout",
     "output_type": "stream",
     "text": [
      "Ttest_indResult(statistic=16.184487462029875, pvalue=5.2526362537802855e-37)\n"
     ]
    }
   ],
   "source": [
    "# Get the T-value using scipy = from scipy.stats import ttest_ind\n",
    "print(ttest_ind(sample2, sample1, equal_var=False))"
   ]
  },
  {
   "cell_type": "code",
   "execution_count": 109,
   "metadata": {},
   "outputs": [],
   "source": [
    "# Interpret T-value:\n",
    "# t-value is the number of standard errors worth of space separating the group means\n",
    "# A t-value of 2 would indicate that the means are two standard errors apart.\n",
    "# QUESTION: what's my reference point for 2 - how do I interpret 2 in the context of the problem?\n",
    "# depends on the context: if it's +/- 1 and you're talking about a person's life years that might be good\n",
    "# but if you're +/- 20 in a person's life years, might not be so good\n",
    "# but in context of evolution +/- 20 yrs is nothing"
   ]
  },
  {
   "cell_type": "code",
   "execution_count": 26,
   "metadata": {},
   "outputs": [],
   "source": [
    "# Interpret p-values:\n",
    "# indicates the likelihood of getting a difference this large or larger in the samples\n",
    "# if the populations were not different\n",
    "\n",
    "# Smaller p-values: confidence = more likely the difference seen in the samples meaningfully reflects the populations."
   ]
  },
  {
   "cell_type": "markdown",
   "metadata": {},
   "source": [
    "# Project"
   ]
  },
  {
   "cell_type": "code",
   "execution_count": null,
   "metadata": {},
   "outputs": [],
   "source": [
    "# mypop1: n = 10, size = 10000, p-value = .2\n",
    "# mypop1: n = 10, size = 10000, p-value = .5"
   ]
  },
  {
   "cell_type": "code",
   "execution_count": 27,
   "metadata": {},
   "outputs": [],
   "source": [
    "#Define the populations\n",
    "mypop1 = np.random.binomial(10, 0.2, 10000)\n",
    "mypop2 = np.random.binomial(10,0.5, 10000)"
   ]
  },
  {
   "cell_type": "code",
   "execution_count": 28,
   "metadata": {},
   "outputs": [],
   "source": [
    "# Get samples from each population\n",
    "sample_mypop1 = np.random.choice(mypop1, 100, replace=True)\n",
    "sample_mypop2 = np.random.choice(mypop2, 100, replace=True)"
   ]
  },
  {
   "cell_type": "code",
   "execution_count": 30,
   "metadata": {},
   "outputs": [
    {
     "name": "stdout",
     "output_type": "stream",
     "text": [
      "Sample mypop1 mean:  2.11\n",
      "Sample mypop2 mean:  5.29\n",
      "Sample mypop1 std:  1.2238872497088937\n",
      "Sample mypop2 std:  1.7736685146892583\n"
     ]
    }
   ],
   "source": [
    "# get mean and standard deviation\n",
    "print(\"Sample mypop1 mean: \", sample_mypop1.mean())\n",
    "print(\"Sample mypop2 mean: \", sample_mypop2.mean())\n",
    "print(\"Sample mypop1 std: \", sample_mypop1.std())\n",
    "print(\"Sample mypop2 std: \", sample_mypop2.std())"
   ]
  },
  {
   "cell_type": "markdown",
   "metadata": {},
   "source": [
    "# Question 1"
   ]
  },
  {
   "cell_type": "markdown",
   "metadata": {},
   "source": [
    "## 1.1 Increase the samples from 100 to 1000, then calculate the means and standard deviations for your new samples and create histograms for each."
   ]
  },
  {
   "cell_type": "code",
   "execution_count": 38,
   "metadata": {},
   "outputs": [],
   "source": [
    "sample1000_mypop1 = np.random.choice(mypop1, 1000, replace=True)\n",
    "sample1000_mypop2 = np.random.choice(mypop2, 1000, replace=True)"
   ]
  },
  {
   "cell_type": "code",
   "execution_count": 39,
   "metadata": {},
   "outputs": [
    {
     "name": "stdout",
     "output_type": "stream",
     "text": [
      "Q1: Sample mypop1 mean:  1.926\n",
      "Q1: Sample mypop2 mean:  4.978\n",
      "Q1: Sample mypop1 std:   1.2468055181141924\n",
      "Q1: Sample mypop2 std:   1.556122103178282\n"
     ]
    }
   ],
   "source": [
    "# get mean and standard deviation\n",
    "print(\"Q1: Sample mypop1 mean: \", sample1000_mypop1.mean())\n",
    "print(\"Q1: Sample mypop2 mean: \", sample1000_mypop2.mean())\n",
    "print(\"Q1: Sample mypop1 std:  \", sample1000_mypop1.std())\n",
    "print(\"Q1: Sample mypop2 std:  \", sample1000_mypop2.std())"
   ]
  },
  {
   "cell_type": "code",
   "execution_count": 43,
   "metadata": {},
   "outputs": [
    {
     "data": {
      "image/png": "[encoded data removed]",
      "text/plain": [
       "<Figure size 432x288 with 1 Axes>"
      ]
     },
     "metadata": {},
     "output_type": "display_data"
    }
   ],
   "source": [
    "# Histograms for sample1 of pop1 and sample2 of pop2\n",
    "plt.hist(sample1000_mypop1, alpha=0.5, label='1000Sample mypop1')\n",
    "plt.hist(sample1000_mypop2, alpha=0.5, label='1000Sample mypop2')\n",
    "plt.legend(loc='upper right')\n",
    "plt.show()"
   ]
  },
  {
   "cell_type": "markdown",
   "metadata": {},
   "source": [
    "## 1.2 Decrease sample size to 20 and repeat"
   ]
  },
  {
   "cell_type": "code",
   "execution_count": 41,
   "metadata": {},
   "outputs": [],
   "source": [
    "sample20_mypop1 = np.random.choice(mypop1, 1000, replace=True)\n",
    "sample20_mypop2 = np.random.choice(mypop2, 1000, replace=True)"
   ]
  },
  {
   "cell_type": "code",
   "execution_count": 45,
   "metadata": {},
   "outputs": [
    {
     "name": "stdout",
     "output_type": "stream",
     "text": [
      "Q1: 20Sample mypop1 mean:  1.999\n",
      "Q1: 20Sample mypop2 mean:  5.019\n",
      "Q1: 20Sample mypop1 std:   1.2565822694913373\n",
      "Q1: 20Sample mypop2 std:   1.5487540153297426\n"
     ]
    }
   ],
   "source": [
    "# get mean and standard deviation\n",
    "print(\"Q1: 20Sample mypop1 mean: \", sample20_mypop1.mean())\n",
    "print(\"Q1: 20Sample mypop2 mean: \", sample20_mypop2.mean())\n",
    "print(\"Q1: 20Sample mypop1 std:  \", sample20_mypop1.std())\n",
    "print(\"Q1: 20Sample mypop2 std:  \", sample20_mypop2.std())"
   ]
  },
  {
   "cell_type": "code",
   "execution_count": 44,
   "metadata": {},
   "outputs": [
    {
     "data": {
      "image/png": "[encoded data removed]",
      "text/plain": [
       "<Figure size 432x288 with 1 Axes>"
      ]
     },
     "metadata": {},
     "output_type": "display_data"
    }
   ],
   "source": [
    "# plot histograms of samples of populations\n",
    "plt.hist(sample20_mypop1, alpha=0.5, label='20Sample mypop1')\n",
    "plt.hist(sample20_mypop2, alpha=0.5, label='20Sample mypop2')\n",
    "plt.legend(loc=\"upper right\")\n",
    "plt.show()"
   ]
  },
  {
   "cell_type": "markdown",
   "metadata": {},
   "source": [
    "## 1.3 What values change and what values stay the same?"
   ]
  },
  {
   "cell_type": "code",
   "execution_count": 108,
   "metadata": {},
   "outputs": [
    {
     "name": "stdout",
     "output_type": "stream",
     "text": [
      "Q1: 20Sample mypop1 mean:        1.999\n",
      "Q1: 1000Sample mypop1 mean:      1.926\n",
      "Difference between sample means: 0.07300000000000018\n"
     ]
    }
   ],
   "source": [
    "# mean and standard deviation\n",
    "diff_between_samplesize_means_pop1 = sample20_mypop1.mean() - sample1000_mypop1.mean()\n",
    "print(\"Q1: 20Sample mypop1 mean:       \", sample20_mypop1.mean())\n",
    "print(\"Q1: 1000Sample mypop1 mean:     \", sample1000_mypop1.mean())\n",
    "print('Difference between sample means:', diff_between_samplesize_means_pop1)"
   ]
  },
  {
   "cell_type": "code",
   "execution_count": 107,
   "metadata": {},
   "outputs": [
    {
     "name": "stdout",
     "output_type": "stream",
     "text": [
      "Q1: 20Sample mypop2 mean:        5.019\n",
      "Q1: 1000Sample mypop2 mean:      4.978\n",
      "Difference between sample means: 0.04100000000000037\n"
     ]
    }
   ],
   "source": [
    "diff_between_samplesize_means_pop2 = sample20_mypop2.mean() - sample1000_mypop2.mean()\n",
    "print(\"Q1: 20Sample mypop2 mean:       \", sample20_mypop2.mean())\n",
    "print(\"Q1: 1000Sample mypop2 mean:     \", sample1000_mypop2.mean())\n",
    "print('Difference between sample means:', diff_between_samplesize_means_pop2)"
   ]
  },
  {
   "cell_type": "code",
   "execution_count": 105,
   "metadata": {},
   "outputs": [
    {
     "name": "stdout",
     "output_type": "stream",
     "text": [
      "Q1: 20Sample mypop1 std:       1.2565822694913373\n",
      "Q1: 1000Sample mypop1 std:     1.2468055181141924\n",
      "Difference between sample std: 0.007368087848539373\n"
     ]
    }
   ],
   "source": [
    "diff_between_samplesize_std_pop1 = sample1000_mypop2.std() - sample20_mypop2.std()\n",
    "print(\"Q1: 20Sample mypop1 std:      \", sample20_mypop1.std())\n",
    "print(\"Q1: 1000Sample mypop1 std:    \", sample1000_mypop1.std())\n",
    "\n",
    "print('Difference between sample std:', diff_between_samplesize_std_pop1)"
   ]
  },
  {
   "cell_type": "code",
   "execution_count": 106,
   "metadata": {},
   "outputs": [
    {
     "name": "stdout",
     "output_type": "stream",
     "text": [
      "Q1: 20Sample mypop2 std:       1.5487540153297426\n",
      "Q1: 1000Sample mypop2 std:     1.556122103178282\n",
      "Difference between sample std: 0.007368087848539373\n"
     ]
    }
   ],
   "source": [
    "diff_between_samplesize_std_pop2 = sample1000_mypop2.std() - sample20_mypop2.std()\n",
    "\n",
    "print(\"Q1: 20Sample mypop2 std:      \", sample20_mypop2.std())\n",
    "print(\"Q1: 1000Sample mypop2 std:    \", sample1000_mypop2.std())\n",
    "\n",
    "print('Difference between sample std:', diff_between_samplesize_std_pop2)"
   ]
  },
  {
   "cell_type": "markdown",
   "metadata": {},
   "source": [
    "QUESTION: Doesn't make sense to me how to evaluate here...given the answer in the solution set\n",
    "There's not a whole lot of shift in mean, but more shift standard deviation between population sample sizes."
   ]
  },
  {
   "cell_type": "code",
   "execution_count": 79,
   "metadata": {},
   "outputs": [
    {
     "name": "stdout",
     "output_type": "stream",
     "text": [
      "Ttest_indResult(statistic=47.860481011532514, pvalue=0.0)\n"
     ]
    }
   ],
   "source": [
    "#QUESTION: huh?\n",
    "print(ttest_ind(sample20_mypop2, sample20_mypop1, equal_var=False))"
   ]
  },
  {
   "cell_type": "markdown",
   "metadata": {},
   "source": [
    "# Question 2"
   ]
  },
  {
   "cell_type": "markdown",
   "metadata": {},
   "source": [
    "## 2.1 Change the probability value (p in the NumPy documentation) for pop1 to 0.3, then take new samples and compute the t-statistic and p-value."
   ]
  },
  {
   "cell_type": "code",
   "execution_count": 93,
   "metadata": {},
   "outputs": [],
   "source": [
    "#Define the populations\n",
    "pchange1_mypop1 = np.random.binomial(10, 0.3, 10000)\n",
    "pchange1_mypop2 = np.random.binomial(10, 0.5, 10000)"
   ]
  },
  {
   "cell_type": "code",
   "execution_count": 94,
   "metadata": {},
   "outputs": [],
   "source": [
    "# Get the samples\n",
    "sample1_pchange1_mypop1 = np.random.choice(pchange1_mypop1, 100, replace=True)\n",
    "sample1_pchange1_mypop2 = np.random.choice(pchange1_mypop2, 100, replace=True)"
   ]
  },
  {
   "cell_type": "code",
   "execution_count": 95,
   "metadata": {},
   "outputs": [
    {
     "name": "stdout",
     "output_type": "stream",
     "text": [
      "Ttest_indResult(statistic=10.031829044843336, pvalue=2.7192060004914936e-19)\n"
     ]
    }
   ],
   "source": [
    "print(ttest_ind(sample1_pchange1_mypop2, sample1_pchange1_mypop1, equal_var=False))"
   ]
  },
  {
   "cell_type": "markdown",
   "metadata": {},
   "source": [
    "## 2.2 Then change the probability value p for group 1 to 0.4, and do it again."
   ]
  },
  {
   "cell_type": "code",
   "execution_count": 96,
   "metadata": {},
   "outputs": [],
   "source": [
    "#Define the populations\n",
    "pchange2_mypop1 = np.random.binomial(10, 0.4, 10000)\n",
    "pchange2_mypop2 = np.random.binomial(10, 0.5, 10000)"
   ]
  },
  {
   "cell_type": "code",
   "execution_count": 97,
   "metadata": {},
   "outputs": [],
   "source": [
    "# Get the samples\n",
    "sample2_pchange2_mypop1 = np.random.choice(pchange2_mypop1, 100, replace=True)\n",
    "sample2_pchange2_mypop2 = np.random.choice(pchange2_mypop2, 100, replace=True)"
   ]
  },
  {
   "cell_type": "code",
   "execution_count": 98,
   "metadata": {},
   "outputs": [
    {
     "name": "stdout",
     "output_type": "stream",
     "text": [
      "Ttest_indResult(statistic=7.795869351609765, pvalue=3.5753783763721487e-13)\n"
     ]
    }
   ],
   "source": [
    "# T-Test\n",
    "print(ttest_ind(sample2_pchange2_mypop2, sample2_pchange2_mypop1, equal_var=False))"
   ]
  },
  {
   "cell_type": "markdown",
   "metadata": {},
   "source": [
    "## 2.3 What changes, and why?"
   ]
  },
  {
   "cell_type": "markdown",
   "metadata": {},
   "source": [
    "The t-value shrinks and the p-value increases as the samples get closer to each other."
   ]
  },
  {
   "cell_type": "markdown",
   "metadata": {},
   "source": [
    "# Question 3"
   ]
  },
  {
   "cell_type": "markdown",
   "metadata": {},
   "source": [
    "##  3.1 Change the distribution of populations from binomial to a distribution of your choice"
   ]
  },
  {
   "cell_type": "code",
   "execution_count": 102,
   "metadata": {},
   "outputs": [],
   "source": [
    "# Define the populations\n",
    "gamma_mypop1 = np.random.gamma(10, 0.4, 10000)\n",
    "gamma_mypop2 = np.random.gamma(10, 0.5, 10000)"
   ]
  },
  {
   "cell_type": "code",
   "execution_count": 103,
   "metadata": {},
   "outputs": [],
   "source": [
    "# Get sample populations\n",
    "sample_gamma_mypop1 = np.random.choice(gamma_mypop1, 100, replace=True)\n",
    "sample_gamma_mypop2 = np.random.choice(gamma_mypop2, 100, replace=True)"
   ]
  },
  {
   "cell_type": "code",
   "execution_count": 104,
   "metadata": {
    "scrolled": true
   },
   "outputs": [
    {
     "name": "stdout",
     "output_type": "stream",
     "text": [
      "Ttest_indResult(statistic=-4.923675662654489, pvalue=1.8782422076877378e-06)\n"
     ]
    }
   ],
   "source": [
    "# T test - is there a significant difference in the sample population means?\n",
    "print(ttest_ind(sample_gamma_mypop1, sample_gamma_mypop2, equal_var=False))"
   ]
  },
  {
   "cell_type": "markdown",
   "metadata": {},
   "source": [
    "## 3.2 Do the sample mean values still accurately represent the population values?"
   ]
  },
  {
   "cell_type": "markdown",
   "metadata": {},
   "source": [
    "Central limit theory says that the any sample population of non-normal distribution will have a normal distribution."
   ]
  }
 ],
 "metadata": {
  "kernelspec": {
   "display_name": "Python 3",
   "language": "python",
   "name": "python3"
  },
  "language_info": {
   "codemirror_mode": {
    "name": "ipython",
    "version": 3
   },
   "file_extension": ".py",
   "mimetype": "text/x-python",
   "name": "python",
   "nbconvert_exporter": "python",
   "pygments_lexer": "ipython3",
   "version": "3.6.4"
  }
 },
 "nbformat": 4,
 "nbformat_minor": 2
}
