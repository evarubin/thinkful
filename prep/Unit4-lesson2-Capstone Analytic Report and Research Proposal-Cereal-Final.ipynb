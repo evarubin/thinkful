{
 "cells": [
  {
   "cell_type": "markdown",
   "metadata": {},
   "source": [
    "# Capstone 1: Analytic Report and Research Proposal \n",
    "\n",
    "by Eva Rubin\n",
    "August 2018\n",
    "\n",
    "Data set includes nutrition information and ratings on 80 hot and cold cereal products from seven different manufacturers: American Home Food Products, General Mills, Kelloggs, Nabisco, Post, Quaker Oats, and Ralston Purina.  Ratings source is unknown.\n",
    "\n",
    "It is interesting to understand the criteria used for rating these cereals.  Given often contradictory advice and assertions of \"healthy\" food products, it's important to understand the criteria used to rate the food we eat so we can judge whether or not a rating source is reliable and trusted.\n",
    "\n",
    "By understanding the inherent values that guide the rating, then it is possible to make more informed decisions regarding assumptions about what makes a cereal \"healthy\" vs. \"unhealthy\"\n",
    "\n",
    "Limitations: the rating source for this dataset is unknown.\n",
    "\n",
    "Research What are the characteristics of the cereals that result in the highest rating?\n",
    "\n",
    "Data source: https://www.kaggle.com/crawford/80-cereals/home"
   ]
  },
  {
   "cell_type": "code",
   "execution_count": 158,
   "metadata": {},
   "outputs": [],
   "source": [
    "import pandas as pd\n",
    "import numpy as np\n",
    "from scipy import stats\n",
    "import matplotlib.pyplot as plt\n",
    "import seaborn as sns\n",
    "%matplotlib inline\n",
    "\n",
    "plt.rcParams['figure.figsize'] = (20.0, 10.0)\n",
    "plt.rcParams.update({'font.size': 22})"
   ]
  },
  {
   "cell_type": "code",
   "execution_count": 159,
   "metadata": {},
   "outputs": [
    {
     "data": {
      "text/plain": [
       "Index(['name', 'mfr', 'type', 'calories', 'protein', 'fat', 'sodium', 'fiber',\n",
       "       'carbo', 'sugars', 'potass', 'vitamins', 'shelf', 'weight', 'cups',\n",
       "       'rating'],\n",
       "      dtype='object')"
      ]
     },
     "execution_count": 159,
     "metadata": {},
     "output_type": "execute_result"
    }
   ],
   "source": [
    "#open tsv or csv tab delimited file\n",
    "#https://stackoverflow.com/questions/48583002/how-to-open-a-tsv-file-in-jupyter-jupyter-notebook-tried-suggestions-but-it-d?rq=1\n",
    "#df = pd.read_csv('/Users/evarubin/Dev/thinkful/data/article_ephys_metadata_curated.csv', sep='\\t')\n",
    "\n",
    "#set data file\n",
    "df = pd.read_csv('/Users/evarubin/Dev/thinkful/data/cereal.csv', sep='\\t')\n",
    "\n",
    "#show columns\n",
    "df.columns"
   ]
  },
  {
   "cell_type": "code",
   "execution_count": 160,
   "metadata": {},
   "outputs": [
    {
     "data": {
      "text/html": [
       "<div>\n",
       "<style scoped>\n",
       "    .dataframe tbody tr th:only-of-type {\n",
       "        vertical-align: middle;\n",
       "    }\n",
       "\n",
       "    .dataframe tbody tr th {\n",
       "        vertical-align: top;\n",
       "    }\n",
       "\n",
       "    .dataframe thead th {\n",
       "        text-align: right;\n",
       "    }\n",
       "</style>\n",
       "<table border=\"1\" class=\"dataframe\">\n",
       "  <thead>\n",
       "    <tr style=\"text-align: right;\">\n",
       "      <th></th>\n",
       "      <th>name</th>\n",
       "      <th>mfr</th>\n",
       "      <th>type</th>\n",
       "      <th>calories</th>\n",
       "      <th>protein</th>\n",
       "      <th>fat</th>\n",
       "      <th>sodium</th>\n",
       "      <th>fiber</th>\n",
       "      <th>carbo</th>\n",
       "      <th>sugars</th>\n",
       "      <th>potass</th>\n",
       "      <th>vitamins</th>\n",
       "      <th>shelf</th>\n",
       "      <th>weight</th>\n",
       "      <th>cups</th>\n",
       "      <th>rating</th>\n",
       "    </tr>\n",
       "  </thead>\n",
       "  <tbody>\n",
       "    <tr>\n",
       "      <th>0</th>\n",
       "      <td>100% Bran</td>\n",
       "      <td>N</td>\n",
       "      <td>C</td>\n",
       "      <td>70</td>\n",
       "      <td>4</td>\n",
       "      <td>1</td>\n",
       "      <td>130</td>\n",
       "      <td>10.0</td>\n",
       "      <td>5.0</td>\n",
       "      <td>6</td>\n",
       "      <td>280</td>\n",
       "      <td>25</td>\n",
       "      <td>3</td>\n",
       "      <td>1.0</td>\n",
       "      <td>0.33</td>\n",
       "      <td>68.402973</td>\n",
       "    </tr>\n",
       "    <tr>\n",
       "      <th>1</th>\n",
       "      <td>100% Natural Bran</td>\n",
       "      <td>Q</td>\n",
       "      <td>C</td>\n",
       "      <td>120</td>\n",
       "      <td>3</td>\n",
       "      <td>5</td>\n",
       "      <td>15</td>\n",
       "      <td>2.0</td>\n",
       "      <td>8.0</td>\n",
       "      <td>8</td>\n",
       "      <td>135</td>\n",
       "      <td>0</td>\n",
       "      <td>3</td>\n",
       "      <td>1.0</td>\n",
       "      <td>1.00</td>\n",
       "      <td>33.983679</td>\n",
       "    </tr>\n",
       "    <tr>\n",
       "      <th>2</th>\n",
       "      <td>All-Bran</td>\n",
       "      <td>K</td>\n",
       "      <td>C</td>\n",
       "      <td>70</td>\n",
       "      <td>4</td>\n",
       "      <td>1</td>\n",
       "      <td>260</td>\n",
       "      <td>9.0</td>\n",
       "      <td>7.0</td>\n",
       "      <td>5</td>\n",
       "      <td>320</td>\n",
       "      <td>25</td>\n",
       "      <td>3</td>\n",
       "      <td>1.0</td>\n",
       "      <td>0.33</td>\n",
       "      <td>59.425505</td>\n",
       "    </tr>\n",
       "    <tr>\n",
       "      <th>3</th>\n",
       "      <td>All-Bran with Extra Fiber</td>\n",
       "      <td>K</td>\n",
       "      <td>C</td>\n",
       "      <td>50</td>\n",
       "      <td>4</td>\n",
       "      <td>0</td>\n",
       "      <td>140</td>\n",
       "      <td>14.0</td>\n",
       "      <td>8.0</td>\n",
       "      <td>0</td>\n",
       "      <td>330</td>\n",
       "      <td>25</td>\n",
       "      <td>3</td>\n",
       "      <td>1.0</td>\n",
       "      <td>0.50</td>\n",
       "      <td>93.704912</td>\n",
       "    </tr>\n",
       "    <tr>\n",
       "      <th>4</th>\n",
       "      <td>Almond Delight</td>\n",
       "      <td>R</td>\n",
       "      <td>C</td>\n",
       "      <td>110</td>\n",
       "      <td>2</td>\n",
       "      <td>2</td>\n",
       "      <td>200</td>\n",
       "      <td>1.0</td>\n",
       "      <td>14.0</td>\n",
       "      <td>8</td>\n",
       "      <td>-1</td>\n",
       "      <td>25</td>\n",
       "      <td>3</td>\n",
       "      <td>1.0</td>\n",
       "      <td>0.75</td>\n",
       "      <td>34.384843</td>\n",
       "    </tr>\n",
       "  </tbody>\n",
       "</table>\n",
       "</div>"
      ],
      "text/plain": [
       "                        name mfr type  calories  protein  fat  sodium  fiber  \\\n",
       "0                  100% Bran   N    C        70        4    1     130   10.0   \n",
       "1          100% Natural Bran   Q    C       120        3    5      15    2.0   \n",
       "2                   All-Bran   K    C        70        4    1     260    9.0   \n",
       "3  All-Bran with Extra Fiber   K    C        50        4    0     140   14.0   \n",
       "4             Almond Delight   R    C       110        2    2     200    1.0   \n",
       "\n",
       "   carbo  sugars  potass  vitamins  shelf  weight  cups     rating  \n",
       "0    5.0       6     280        25      3     1.0  0.33  68.402973  \n",
       "1    8.0       8     135         0      3     1.0  1.00  33.983679  \n",
       "2    7.0       5     320        25      3     1.0  0.33  59.425505  \n",
       "3    8.0       0     330        25      3     1.0  0.50  93.704912  \n",
       "4   14.0       8      -1        25      3     1.0  0.75  34.384843  "
      ]
     },
     "execution_count": 160,
     "metadata": {},
     "output_type": "execute_result"
    }
   ],
   "source": [
    "# View first 5 rows of data\n",
    "df.head()"
   ]
  },
  {
   "cell_type": "markdown",
   "metadata": {},
   "source": [
    "### Exploring the data..."
   ]
  },
  {
   "cell_type": "code",
   "execution_count": 161,
   "metadata": {},
   "outputs": [
    {
     "data": {
      "text/html": [
       "<div>\n",
       "<style scoped>\n",
       "    .dataframe tbody tr th:only-of-type {\n",
       "        vertical-align: middle;\n",
       "    }\n",
       "\n",
       "    .dataframe tbody tr th {\n",
       "        vertical-align: top;\n",
       "    }\n",
       "\n",
       "    .dataframe thead th {\n",
       "        text-align: right;\n",
       "    }\n",
       "</style>\n",
       "<table border=\"1\" class=\"dataframe\">\n",
       "  <thead>\n",
       "    <tr style=\"text-align: right;\">\n",
       "      <th></th>\n",
       "      <th>calories</th>\n",
       "      <th>protein</th>\n",
       "      <th>fat</th>\n",
       "      <th>sodium</th>\n",
       "      <th>fiber</th>\n",
       "      <th>carbo</th>\n",
       "      <th>sugars</th>\n",
       "      <th>potass</th>\n",
       "      <th>vitamins</th>\n",
       "      <th>shelf</th>\n",
       "      <th>weight</th>\n",
       "      <th>cups</th>\n",
       "      <th>rating</th>\n",
       "    </tr>\n",
       "  </thead>\n",
       "  <tbody>\n",
       "    <tr>\n",
       "      <th>count</th>\n",
       "      <td>77.000000</td>\n",
       "      <td>77.000000</td>\n",
       "      <td>77.000000</td>\n",
       "      <td>77.000000</td>\n",
       "      <td>77.000000</td>\n",
       "      <td>77.000000</td>\n",
       "      <td>77.000000</td>\n",
       "      <td>77.000000</td>\n",
       "      <td>77.000000</td>\n",
       "      <td>77.000000</td>\n",
       "      <td>77.000000</td>\n",
       "      <td>77.000000</td>\n",
       "      <td>77.000000</td>\n",
       "    </tr>\n",
       "    <tr>\n",
       "      <th>mean</th>\n",
       "      <td>106.883117</td>\n",
       "      <td>2.545455</td>\n",
       "      <td>1.012987</td>\n",
       "      <td>159.675325</td>\n",
       "      <td>2.151948</td>\n",
       "      <td>14.597403</td>\n",
       "      <td>6.922078</td>\n",
       "      <td>96.077922</td>\n",
       "      <td>28.246753</td>\n",
       "      <td>2.207792</td>\n",
       "      <td>1.029610</td>\n",
       "      <td>0.821039</td>\n",
       "      <td>42.665705</td>\n",
       "    </tr>\n",
       "    <tr>\n",
       "      <th>std</th>\n",
       "      <td>19.484119</td>\n",
       "      <td>1.094790</td>\n",
       "      <td>1.006473</td>\n",
       "      <td>83.832295</td>\n",
       "      <td>2.383364</td>\n",
       "      <td>4.278956</td>\n",
       "      <td>4.444885</td>\n",
       "      <td>71.286813</td>\n",
       "      <td>22.342523</td>\n",
       "      <td>0.832524</td>\n",
       "      <td>0.150477</td>\n",
       "      <td>0.232716</td>\n",
       "      <td>14.047289</td>\n",
       "    </tr>\n",
       "    <tr>\n",
       "      <th>min</th>\n",
       "      <td>50.000000</td>\n",
       "      <td>1.000000</td>\n",
       "      <td>0.000000</td>\n",
       "      <td>0.000000</td>\n",
       "      <td>0.000000</td>\n",
       "      <td>-1.000000</td>\n",
       "      <td>-1.000000</td>\n",
       "      <td>-1.000000</td>\n",
       "      <td>0.000000</td>\n",
       "      <td>1.000000</td>\n",
       "      <td>0.500000</td>\n",
       "      <td>0.250000</td>\n",
       "      <td>18.042851</td>\n",
       "    </tr>\n",
       "    <tr>\n",
       "      <th>25%</th>\n",
       "      <td>100.000000</td>\n",
       "      <td>2.000000</td>\n",
       "      <td>0.000000</td>\n",
       "      <td>130.000000</td>\n",
       "      <td>1.000000</td>\n",
       "      <td>12.000000</td>\n",
       "      <td>3.000000</td>\n",
       "      <td>40.000000</td>\n",
       "      <td>25.000000</td>\n",
       "      <td>1.000000</td>\n",
       "      <td>1.000000</td>\n",
       "      <td>0.670000</td>\n",
       "      <td>33.174094</td>\n",
       "    </tr>\n",
       "    <tr>\n",
       "      <th>50%</th>\n",
       "      <td>110.000000</td>\n",
       "      <td>3.000000</td>\n",
       "      <td>1.000000</td>\n",
       "      <td>180.000000</td>\n",
       "      <td>2.000000</td>\n",
       "      <td>14.000000</td>\n",
       "      <td>7.000000</td>\n",
       "      <td>90.000000</td>\n",
       "      <td>25.000000</td>\n",
       "      <td>2.000000</td>\n",
       "      <td>1.000000</td>\n",
       "      <td>0.750000</td>\n",
       "      <td>40.400208</td>\n",
       "    </tr>\n",
       "    <tr>\n",
       "      <th>75%</th>\n",
       "      <td>110.000000</td>\n",
       "      <td>3.000000</td>\n",
       "      <td>2.000000</td>\n",
       "      <td>210.000000</td>\n",
       "      <td>3.000000</td>\n",
       "      <td>17.000000</td>\n",
       "      <td>11.000000</td>\n",
       "      <td>120.000000</td>\n",
       "      <td>25.000000</td>\n",
       "      <td>3.000000</td>\n",
       "      <td>1.000000</td>\n",
       "      <td>1.000000</td>\n",
       "      <td>50.828392</td>\n",
       "    </tr>\n",
       "    <tr>\n",
       "      <th>max</th>\n",
       "      <td>160.000000</td>\n",
       "      <td>6.000000</td>\n",
       "      <td>5.000000</td>\n",
       "      <td>320.000000</td>\n",
       "      <td>14.000000</td>\n",
       "      <td>23.000000</td>\n",
       "      <td>15.000000</td>\n",
       "      <td>330.000000</td>\n",
       "      <td>100.000000</td>\n",
       "      <td>3.000000</td>\n",
       "      <td>1.500000</td>\n",
       "      <td>1.500000</td>\n",
       "      <td>93.704912</td>\n",
       "    </tr>\n",
       "  </tbody>\n",
       "</table>\n",
       "</div>"
      ],
      "text/plain": [
       "         calories    protein        fat      sodium      fiber      carbo  \\\n",
       "count   77.000000  77.000000  77.000000   77.000000  77.000000  77.000000   \n",
       "mean   106.883117   2.545455   1.012987  159.675325   2.151948  14.597403   \n",
       "std     19.484119   1.094790   1.006473   83.832295   2.383364   4.278956   \n",
       "min     50.000000   1.000000   0.000000    0.000000   0.000000  -1.000000   \n",
       "25%    100.000000   2.000000   0.000000  130.000000   1.000000  12.000000   \n",
       "50%    110.000000   3.000000   1.000000  180.000000   2.000000  14.000000   \n",
       "75%    110.000000   3.000000   2.000000  210.000000   3.000000  17.000000   \n",
       "max    160.000000   6.000000   5.000000  320.000000  14.000000  23.000000   \n",
       "\n",
       "          sugars      potass    vitamins      shelf     weight       cups  \\\n",
       "count  77.000000   77.000000   77.000000  77.000000  77.000000  77.000000   \n",
       "mean    6.922078   96.077922   28.246753   2.207792   1.029610   0.821039   \n",
       "std     4.444885   71.286813   22.342523   0.832524   0.150477   0.232716   \n",
       "min    -1.000000   -1.000000    0.000000   1.000000   0.500000   0.250000   \n",
       "25%     3.000000   40.000000   25.000000   1.000000   1.000000   0.670000   \n",
       "50%     7.000000   90.000000   25.000000   2.000000   1.000000   0.750000   \n",
       "75%    11.000000  120.000000   25.000000   3.000000   1.000000   1.000000   \n",
       "max    15.000000  330.000000  100.000000   3.000000   1.500000   1.500000   \n",
       "\n",
       "          rating  \n",
       "count  77.000000  \n",
       "mean   42.665705  \n",
       "std    14.047289  \n",
       "min    18.042851  \n",
       "25%    33.174094  \n",
       "50%    40.400208  \n",
       "75%    50.828392  \n",
       "max    93.704912  "
      ]
     },
     "execution_count": 161,
     "metadata": {},
     "output_type": "execute_result"
    }
   ],
   "source": [
    "#View summary stats of numeric variables\n",
    "df.describe()"
   ]
  },
  {
   "cell_type": "code",
   "execution_count": 162,
   "metadata": {},
   "outputs": [
    {
     "data": {
      "text/html": [
       "<div>\n",
       "<style scoped>\n",
       "    .dataframe tbody tr th:only-of-type {\n",
       "        vertical-align: middle;\n",
       "    }\n",
       "\n",
       "    .dataframe tbody tr th {\n",
       "        vertical-align: top;\n",
       "    }\n",
       "\n",
       "    .dataframe thead th {\n",
       "        text-align: right;\n",
       "    }\n",
       "</style>\n",
       "<table border=\"1\" class=\"dataframe\">\n",
       "  <thead>\n",
       "    <tr style=\"text-align: right;\">\n",
       "      <th></th>\n",
       "      <th>calories</th>\n",
       "      <th>protein</th>\n",
       "      <th>fat</th>\n",
       "      <th>sodium</th>\n",
       "      <th>fiber</th>\n",
       "      <th>carbo</th>\n",
       "      <th>sugars</th>\n",
       "      <th>potass</th>\n",
       "      <th>vitamins</th>\n",
       "      <th>shelf</th>\n",
       "      <th>weight</th>\n",
       "      <th>cups</th>\n",
       "      <th>rating</th>\n",
       "    </tr>\n",
       "  </thead>\n",
       "  <tbody>\n",
       "    <tr>\n",
       "      <th>calories</th>\n",
       "      <td>1.000000</td>\n",
       "      <td>0.019066</td>\n",
       "      <td>0.498610</td>\n",
       "      <td>0.300649</td>\n",
       "      <td>-0.293413</td>\n",
       "      <td>0.250681</td>\n",
       "      <td>0.562340</td>\n",
       "      <td>-0.066609</td>\n",
       "      <td>0.265356</td>\n",
       "      <td>0.097234</td>\n",
       "      <td>0.696091</td>\n",
       "      <td>0.087200</td>\n",
       "      <td>-0.689376</td>\n",
       "    </tr>\n",
       "    <tr>\n",
       "      <th>protein</th>\n",
       "      <td>0.019066</td>\n",
       "      <td>1.000000</td>\n",
       "      <td>0.208431</td>\n",
       "      <td>-0.054674</td>\n",
       "      <td>0.500330</td>\n",
       "      <td>-0.130864</td>\n",
       "      <td>-0.329142</td>\n",
       "      <td>0.549407</td>\n",
       "      <td>0.007335</td>\n",
       "      <td>0.133865</td>\n",
       "      <td>0.216158</td>\n",
       "      <td>-0.244469</td>\n",
       "      <td>0.470618</td>\n",
       "    </tr>\n",
       "    <tr>\n",
       "      <th>fat</th>\n",
       "      <td>0.498610</td>\n",
       "      <td>0.208431</td>\n",
       "      <td>1.000000</td>\n",
       "      <td>-0.005407</td>\n",
       "      <td>0.016719</td>\n",
       "      <td>-0.318043</td>\n",
       "      <td>0.270819</td>\n",
       "      <td>0.193279</td>\n",
       "      <td>-0.031156</td>\n",
       "      <td>0.263691</td>\n",
       "      <td>0.214625</td>\n",
       "      <td>-0.175892</td>\n",
       "      <td>-0.409284</td>\n",
       "    </tr>\n",
       "    <tr>\n",
       "      <th>sodium</th>\n",
       "      <td>0.300649</td>\n",
       "      <td>-0.054674</td>\n",
       "      <td>-0.005407</td>\n",
       "      <td>1.000000</td>\n",
       "      <td>-0.070675</td>\n",
       "      <td>0.355983</td>\n",
       "      <td>0.101451</td>\n",
       "      <td>-0.032603</td>\n",
       "      <td>0.361477</td>\n",
       "      <td>-0.069719</td>\n",
       "      <td>0.308576</td>\n",
       "      <td>0.119665</td>\n",
       "      <td>-0.401295</td>\n",
       "    </tr>\n",
       "    <tr>\n",
       "      <th>fiber</th>\n",
       "      <td>-0.293413</td>\n",
       "      <td>0.500330</td>\n",
       "      <td>0.016719</td>\n",
       "      <td>-0.070675</td>\n",
       "      <td>1.000000</td>\n",
       "      <td>-0.356083</td>\n",
       "      <td>-0.141205</td>\n",
       "      <td>0.903374</td>\n",
       "      <td>-0.032243</td>\n",
       "      <td>0.297539</td>\n",
       "      <td>0.247226</td>\n",
       "      <td>-0.513061</td>\n",
       "      <td>0.584160</td>\n",
       "    </tr>\n",
       "    <tr>\n",
       "      <th>carbo</th>\n",
       "      <td>0.250681</td>\n",
       "      <td>-0.130864</td>\n",
       "      <td>-0.318043</td>\n",
       "      <td>0.355983</td>\n",
       "      <td>-0.356083</td>\n",
       "      <td>1.000000</td>\n",
       "      <td>-0.331665</td>\n",
       "      <td>-0.349685</td>\n",
       "      <td>0.258148</td>\n",
       "      <td>-0.101790</td>\n",
       "      <td>0.135136</td>\n",
       "      <td>0.363932</td>\n",
       "      <td>0.052055</td>\n",
       "    </tr>\n",
       "    <tr>\n",
       "      <th>sugars</th>\n",
       "      <td>0.562340</td>\n",
       "      <td>-0.329142</td>\n",
       "      <td>0.270819</td>\n",
       "      <td>0.101451</td>\n",
       "      <td>-0.141205</td>\n",
       "      <td>-0.331665</td>\n",
       "      <td>1.000000</td>\n",
       "      <td>0.021696</td>\n",
       "      <td>0.125137</td>\n",
       "      <td>0.100438</td>\n",
       "      <td>0.450648</td>\n",
       "      <td>-0.032358</td>\n",
       "      <td>-0.759675</td>\n",
       "    </tr>\n",
       "    <tr>\n",
       "      <th>potass</th>\n",
       "      <td>-0.066609</td>\n",
       "      <td>0.549407</td>\n",
       "      <td>0.193279</td>\n",
       "      <td>-0.032603</td>\n",
       "      <td>0.903374</td>\n",
       "      <td>-0.349685</td>\n",
       "      <td>0.021696</td>\n",
       "      <td>1.000000</td>\n",
       "      <td>0.020699</td>\n",
       "      <td>0.360663</td>\n",
       "      <td>0.416303</td>\n",
       "      <td>-0.495195</td>\n",
       "      <td>0.380165</td>\n",
       "    </tr>\n",
       "    <tr>\n",
       "      <th>vitamins</th>\n",
       "      <td>0.265356</td>\n",
       "      <td>0.007335</td>\n",
       "      <td>-0.031156</td>\n",
       "      <td>0.361477</td>\n",
       "      <td>-0.032243</td>\n",
       "      <td>0.258148</td>\n",
       "      <td>0.125137</td>\n",
       "      <td>0.020699</td>\n",
       "      <td>1.000000</td>\n",
       "      <td>0.299262</td>\n",
       "      <td>0.320324</td>\n",
       "      <td>0.128405</td>\n",
       "      <td>-0.240544</td>\n",
       "    </tr>\n",
       "    <tr>\n",
       "      <th>shelf</th>\n",
       "      <td>0.097234</td>\n",
       "      <td>0.133865</td>\n",
       "      <td>0.263691</td>\n",
       "      <td>-0.069719</td>\n",
       "      <td>0.297539</td>\n",
       "      <td>-0.101790</td>\n",
       "      <td>0.100438</td>\n",
       "      <td>0.360663</td>\n",
       "      <td>0.299262</td>\n",
       "      <td>1.000000</td>\n",
       "      <td>0.190762</td>\n",
       "      <td>-0.335269</td>\n",
       "      <td>0.025159</td>\n",
       "    </tr>\n",
       "    <tr>\n",
       "      <th>weight</th>\n",
       "      <td>0.696091</td>\n",
       "      <td>0.216158</td>\n",
       "      <td>0.214625</td>\n",
       "      <td>0.308576</td>\n",
       "      <td>0.247226</td>\n",
       "      <td>0.135136</td>\n",
       "      <td>0.450648</td>\n",
       "      <td>0.416303</td>\n",
       "      <td>0.320324</td>\n",
       "      <td>0.190762</td>\n",
       "      <td>1.000000</td>\n",
       "      <td>-0.199583</td>\n",
       "      <td>-0.298124</td>\n",
       "    </tr>\n",
       "    <tr>\n",
       "      <th>cups</th>\n",
       "      <td>0.087200</td>\n",
       "      <td>-0.244469</td>\n",
       "      <td>-0.175892</td>\n",
       "      <td>0.119665</td>\n",
       "      <td>-0.513061</td>\n",
       "      <td>0.363932</td>\n",
       "      <td>-0.032358</td>\n",
       "      <td>-0.495195</td>\n",
       "      <td>0.128405</td>\n",
       "      <td>-0.335269</td>\n",
       "      <td>-0.199583</td>\n",
       "      <td>1.000000</td>\n",
       "      <td>-0.203160</td>\n",
       "    </tr>\n",
       "    <tr>\n",
       "      <th>rating</th>\n",
       "      <td>-0.689376</td>\n",
       "      <td>0.470618</td>\n",
       "      <td>-0.409284</td>\n",
       "      <td>-0.401295</td>\n",
       "      <td>0.584160</td>\n",
       "      <td>0.052055</td>\n",
       "      <td>-0.759675</td>\n",
       "      <td>0.380165</td>\n",
       "      <td>-0.240544</td>\n",
       "      <td>0.025159</td>\n",
       "      <td>-0.298124</td>\n",
       "      <td>-0.203160</td>\n",
       "      <td>1.000000</td>\n",
       "    </tr>\n",
       "  </tbody>\n",
       "</table>\n",
       "</div>"
      ],
      "text/plain": [
       "          calories   protein       fat    sodium     fiber     carbo  \\\n",
       "calories  1.000000  0.019066  0.498610  0.300649 -0.293413  0.250681   \n",
       "protein   0.019066  1.000000  0.208431 -0.054674  0.500330 -0.130864   \n",
       "fat       0.498610  0.208431  1.000000 -0.005407  0.016719 -0.318043   \n",
       "sodium    0.300649 -0.054674 -0.005407  1.000000 -0.070675  0.355983   \n",
       "fiber    -0.293413  0.500330  0.016719 -0.070675  1.000000 -0.356083   \n",
       "carbo     0.250681 -0.130864 -0.318043  0.355983 -0.356083  1.000000   \n",
       "sugars    0.562340 -0.329142  0.270819  0.101451 -0.141205 -0.331665   \n",
       "potass   -0.066609  0.549407  0.193279 -0.032603  0.903374 -0.349685   \n",
       "vitamins  0.265356  0.007335 -0.031156  0.361477 -0.032243  0.258148   \n",
       "shelf     0.097234  0.133865  0.263691 -0.069719  0.297539 -0.101790   \n",
       "weight    0.696091  0.216158  0.214625  0.308576  0.247226  0.135136   \n",
       "cups      0.087200 -0.244469 -0.175892  0.119665 -0.513061  0.363932   \n",
       "rating   -0.689376  0.470618 -0.409284 -0.401295  0.584160  0.052055   \n",
       "\n",
       "            sugars    potass  vitamins     shelf    weight      cups    rating  \n",
       "calories  0.562340 -0.066609  0.265356  0.097234  0.696091  0.087200 -0.689376  \n",
       "protein  -0.329142  0.549407  0.007335  0.133865  0.216158 -0.244469  0.470618  \n",
       "fat       0.270819  0.193279 -0.031156  0.263691  0.214625 -0.175892 -0.409284  \n",
       "sodium    0.101451 -0.032603  0.361477 -0.069719  0.308576  0.119665 -0.401295  \n",
       "fiber    -0.141205  0.903374 -0.032243  0.297539  0.247226 -0.513061  0.584160  \n",
       "carbo    -0.331665 -0.349685  0.258148 -0.101790  0.135136  0.363932  0.052055  \n",
       "sugars    1.000000  0.021696  0.125137  0.100438  0.450648 -0.032358 -0.759675  \n",
       "potass    0.021696  1.000000  0.020699  0.360663  0.416303 -0.495195  0.380165  \n",
       "vitamins  0.125137  0.020699  1.000000  0.299262  0.320324  0.128405 -0.240544  \n",
       "shelf     0.100438  0.360663  0.299262  1.000000  0.190762 -0.335269  0.025159  \n",
       "weight    0.450648  0.416303  0.320324  0.190762  1.000000 -0.199583 -0.298124  \n",
       "cups     -0.032358 -0.495195  0.128405 -0.335269 -0.199583  1.000000 -0.203160  \n",
       "rating   -0.759675  0.380165 -0.240544  0.025159 -0.298124 -0.203160  1.000000  "
      ]
     },
     "execution_count": 162,
     "metadata": {},
     "output_type": "execute_result"
    }
   ],
   "source": [
    "# Explore correlations between variables\n",
    "df.corr()"
   ]
  },
  {
   "cell_type": "markdown",
   "metadata": {},
   "source": [
    "### Checking out hot vs. cold cereals"
   ]
  },
  {
   "cell_type": "code",
   "execution_count": 163,
   "metadata": {},
   "outputs": [
    {
     "data": {
      "text/plain": [
       "C    74\n",
       "H     3\n",
       "Name: type, dtype: int64"
      ]
     },
     "execution_count": 163,
     "metadata": {},
     "output_type": "execute_result"
    }
   ],
   "source": [
    "df.type.value_counts()"
   ]
  },
  {
   "cell_type": "markdown",
   "metadata": {},
   "source": [
    "So few hot cereals, won't look at differences between hot vs cold cereals"
   ]
  },
  {
   "cell_type": "markdown",
   "metadata": {},
   "source": [
    "### Checking out the representation of cereals by the various manufacturers: Kellogg's and General Mills have the highest number of cereals represented in the data."
   ]
  },
  {
   "cell_type": "code",
   "execution_count": 164,
   "metadata": {},
   "outputs": [
    {
     "data": {
      "image/png": "[encoded data removed]",
      "text/plain": [
       "<Figure size 1440x720 with 1 Axes>"
      ]
     },
     "metadata": {},
     "output_type": "display_data"
    }
   ],
   "source": [
    "#bar chart on manufacturers df.mfr.value_counts().plot(kind = \"bar\")\n",
    "df.mfr.value_counts().plot(kind = \"bar\");"
   ]
  },
  {
   "cell_type": "markdown",
   "metadata": {},
   "source": [
    "### Group Manufacturers into Big and Small to compare"
   ]
  },
  {
   "cell_type": "code",
   "execution_count": 165,
   "metadata": {},
   "outputs": [],
   "source": [
    "df['Manufacturer'] = df['mfr'].astype('category')\n",
    "df['Manufacturer'] = df['Manufacturer'].cat.set_categories([\"K\",\"G\",\"P\", \n",
    "                                                   \"Q\", \"R\", \"N\", \"A\"])"
   ]
  },
  {
   "cell_type": "code",
   "execution_count": 166,
   "metadata": {},
   "outputs": [],
   "source": [
    "df[\"BigMan\"] = df[\"Manufacturer\"].isin([\"K\", \"G\"])\n",
    "df[\"SmallMan\"] = df[\"Manufacturer\"].isin([\"P\", \"Q\", \"R\", \"N\", \"A\"])"
   ]
  },
  {
   "cell_type": "code",
   "execution_count": 167,
   "metadata": {},
   "outputs": [
    {
     "data": {
      "image/png": "[encoded data removed]",
      "text/plain": [
       "<Figure size 1440x720 with 1 Axes>"
      ]
     },
     "metadata": {},
     "output_type": "display_data"
    }
   ],
   "source": [
    "df.BigMan.value_counts().plot(kind = \"bar\");"
   ]
  },
  {
   "cell_type": "code",
   "execution_count": 168,
   "metadata": {},
   "outputs": [
    {
     "name": "stdout",
     "output_type": "stream",
     "text": [
      "Big manufacturer sample size: 45\n",
      "Small manufacturer sample size: 32\n",
      "Big manufacturer proportion: 0.5844155844155844\n",
      "\n"
     ]
    }
   ],
   "source": [
    "# How large is each group?\n",
    "print('Big manufacturer sample size:', len(df[df.BigMan == 1]))\n",
    "print('Small manufacturer sample size:', len(df[df.SmallMan == 1]))\n",
    "print('Big manufacturer proportion:', df.BigMan.mean())\n",
    "print()"
   ]
  },
  {
   "cell_type": "code",
   "execution_count": 169,
   "metadata": {},
   "outputs": [],
   "source": [
    "# Get subset df with only Kellogg and General Mills\n",
    "bm = df.loc[df['Manufacturer'].isin(['K', 'G'])]"
   ]
  },
  {
   "cell_type": "code",
   "execution_count": 170,
   "metadata": {},
   "outputs": [],
   "source": [
    "# Get subset of df with Post, Quaker, Ralston Purina, Nabisco, and American Home Food Products\n",
    "sm = df.loc[df['Manufacturer'].isin([\"P\", \"Q\", \"R\", \"N\", \"A\"])]"
   ]
  },
  {
   "cell_type": "markdown",
   "metadata": {},
   "source": [
    "### Is there a relationship between big vs. small manufacturer group and rating?"
   ]
  },
  {
   "cell_type": "code",
   "execution_count": 171,
   "metadata": {},
   "outputs": [
    {
     "data": {
      "text/plain": [
       "39.368297133333336"
      ]
     },
     "execution_count": 171,
     "metadata": {},
     "output_type": "execute_result"
    }
   ],
   "source": [
    "#Correlation between being a big manufacturer and rating\n",
    "bm['rating'].mean()"
   ]
  },
  {
   "cell_type": "code",
   "execution_count": 172,
   "metadata": {},
   "outputs": [
    {
     "data": {
      "text/plain": [
       "47.302684781249994"
      ]
     },
     "execution_count": 172,
     "metadata": {},
     "output_type": "execute_result"
    }
   ],
   "source": [
    "#Correlation between being a small manufacturer and rating\n",
    "sm['rating'].mean()"
   ]
  },
  {
   "cell_type": "markdown",
   "metadata": {},
   "source": [
    "### There is a higher rating for the smaller manufacturer group than the big manufacturer group.  Is there any one manufacturer that represents these higher ratings?"
   ]
  },
  {
   "cell_type": "code",
   "execution_count": 173,
   "metadata": {},
   "outputs": [
    {
     "data": {
      "image/png": "[encoded data removed]",
      "text/plain": [
       "<Figure size 1440x720 with 1 Axes>"
      ]
     },
     "metadata": {},
     "output_type": "display_data"
    }
   ],
   "source": [
    "# Check out the distribution of the ratings\n",
    "plt.hist(df['rating'], bins=30);"
   ]
  },
  {
   "cell_type": "markdown",
   "metadata": {},
   "source": [
    "### The ratings follow a mostly normal curve, but also show a large gap between most of the cereals and one outlier with ratings above 90.  What cereals represent these higher ratings and what characteristics of these highly rated cereals might indicate criteria for cereal ratings?"
   ]
  },
  {
   "cell_type": "code",
   "execution_count": 212,
   "metadata": {},
   "outputs": [
    {
     "data": {
      "text/html": [
       "<div>\n",
       "<style scoped>\n",
       "    .dataframe tbody tr th:only-of-type {\n",
       "        vertical-align: middle;\n",
       "    }\n",
       "\n",
       "    .dataframe tbody tr th {\n",
       "        vertical-align: top;\n",
       "    }\n",
       "\n",
       "    .dataframe thead th {\n",
       "        text-align: right;\n",
       "    }\n",
       "</style>\n",
       "<table border=\"1\" class=\"dataframe\">\n",
       "  <thead>\n",
       "    <tr style=\"text-align: right;\">\n",
       "      <th></th>\n",
       "      <th></th>\n",
       "      <th></th>\n",
       "      <th></th>\n",
       "      <th></th>\n",
       "      <th></th>\n",
       "      <th></th>\n",
       "      <th></th>\n",
       "      <th></th>\n",
       "      <th></th>\n",
       "      <th></th>\n",
       "      <th></th>\n",
       "      <th></th>\n",
       "      <th></th>\n",
       "      <th></th>\n",
       "      <th></th>\n",
       "      <th>rating</th>\n",
       "    </tr>\n",
       "    <tr>\n",
       "      <th>name</th>\n",
       "      <th>mfr</th>\n",
       "      <th>type</th>\n",
       "      <th>calories</th>\n",
       "      <th>protein</th>\n",
       "      <th>fat</th>\n",
       "      <th>sodium</th>\n",
       "      <th>fiber</th>\n",
       "      <th>carbo</th>\n",
       "      <th>sugars</th>\n",
       "      <th>potass</th>\n",
       "      <th>vitamins</th>\n",
       "      <th>shelf</th>\n",
       "      <th>weight</th>\n",
       "      <th>cups</th>\n",
       "      <th>rating</th>\n",
       "      <th></th>\n",
       "    </tr>\n",
       "  </thead>\n",
       "  <tbody>\n",
       "    <tr>\n",
       "      <th>All-Bran with Extra Fiber</th>\n",
       "      <th>K</th>\n",
       "      <th>C</th>\n",
       "      <th>50</th>\n",
       "      <th>4</th>\n",
       "      <th>0</th>\n",
       "      <th>140</th>\n",
       "      <th>14.0</th>\n",
       "      <th>8.0</th>\n",
       "      <th>0</th>\n",
       "      <th>330</th>\n",
       "      <th>25</th>\n",
       "      <th>3</th>\n",
       "      <th>1.0</th>\n",
       "      <th>0.5</th>\n",
       "      <th>93.704912</th>\n",
       "      <td>1</td>\n",
       "    </tr>\n",
       "  </tbody>\n",
       "</table>\n",
       "</div>"
      ],
      "text/plain": [
       "                                                                                                                               rating\n",
       "name                      mfr type calories protein fat sodium fiber carbo sugars potass vitamins shelf weight cups rating           \n",
       "All-Bran with Extra Fiber K   C    50       4       0   140    14.0  8.0   0      330    25       3     1.0    0.5  93.704912       1"
      ]
     },
     "execution_count": 212,
     "metadata": {},
     "output_type": "execute_result"
    }
   ],
   "source": [
    "# Top rated cereal\n",
    "df_outlier = df.loc[(df['rating'] > 90)]\n",
    "outlier_cereal = df_outlier.groupby(\n",
    "    ['name', 'mfr', 'type', 'calories', 'protein', 'fat', 'sodium', 'fiber',\n",
    "       'carbo', 'sugars', 'potass', 'vitamins', 'shelf', 'weight', 'cups',\n",
    "       'rating']).agg({'rating':'count'})\n",
    "\n",
    "outlier_cereal"
   ]
  },
  {
   "cell_type": "markdown",
   "metadata": {},
   "source": [
    "### Reviewing the descriptive statistics, the highest rated single cereal has the most fiber: 14; the fewest calories: 50; the least sugars: 0; the highest potassium: 330.\n",
    "\n",
    "These characteristics likely make up the criteria that ratings are based upon, but let's test this hypothesis against the highest rated cereals by any one manufacturer?"
   ]
  },
  {
   "cell_type": "markdown",
   "metadata": {},
   "source": [
    "### Which manufacturer tends to produce more highly rated cereals?"
   ]
  },
  {
   "cell_type": "code",
   "execution_count": 174,
   "metadata": {},
   "outputs": [],
   "source": [
    "# Identify manufacturers that represent highest mean ratings\n",
    "\n",
    "# Use get_dummies of df and it will create new columns with dummy variables\n",
    "mfr_dummies = pd.get_dummies(df, columns=['mfr'], drop_first=True )"
   ]
  },
  {
   "cell_type": "code",
   "execution_count": 175,
   "metadata": {},
   "outputs": [
    {
     "name": "stdout",
     "output_type": "stream",
     "text": [
      "General Mills cereals: 22\n",
      "Kelloggs cereals: 23\n",
      "Nabisco cereals: 6\n",
      "Post cereals: 9\n",
      "Quaker Oats cereals: 8\n",
      "Ralston Purina cereals: 8\n",
      "American Home Food Product cereals: 1\n",
      "\n"
     ]
    }
   ],
   "source": [
    "# How many cereals do each manufacture produce in the sample?\n",
    "print('General Mills cereals:', len(df[mfr_dummies['mfr_G'] == 1]))\n",
    "print('Kelloggs cereals:', len(df[mfr_dummies['mfr_K'] == 1]))\n",
    "print('Nabisco cereals:', len(df[mfr_dummies['mfr_N'] == 1]))\n",
    "print('Post cereals:', len(df[mfr_dummies['mfr_P'] == 1]))\n",
    "print('Quaker Oats cereals:', len(df[mfr_dummies['mfr_Q'] == 1]))\n",
    "print('Ralston Purina cereals:', len(df[mfr_dummies['mfr_R'] == 1]))\n",
    "print('American Home Food Product cereals:', len(df[df['mfr'] == 'A']))\n",
    "print()"
   ]
  },
  {
   "cell_type": "code",
   "execution_count": 189,
   "metadata": {},
   "outputs": [
    {
     "data": {
      "text/plain": [
       "mfr_N    0.527063\n",
       "mfr_K    0.064196\n",
       "mfr_Q    0.006107\n",
       "mfr_P   -0.025025\n",
       "mfr_R   -0.027393\n",
       "mfr_G   -0.370699\n",
       "Name: rating, dtype: float64"
      ]
     },
     "execution_count": 189,
     "metadata": {},
     "output_type": "execute_result"
    }
   ],
   "source": [
    "mfr_dummies[mfr_dummies.columns[1:]].corr()['rating'][-6:].sort_values(ascending=False)"
   ]
  },
  {
   "cell_type": "markdown",
   "metadata": {},
   "source": [
    "### Nabisco has the strongest correlation with ratings for cereals. Do Nabisco manufactured cereals follow the pattern of high fiber, low calories, low sugar, and high potassium in the highest rated single cereal?"
   ]
  },
  {
   "cell_type": "code",
   "execution_count": 177,
   "metadata": {},
   "outputs": [
    {
     "data": {
      "text/plain": [
       "mfr_N    0.226887\n",
       "mfr_K    0.161841\n",
       "mfr_P    0.096155\n",
       "mfr_R   -0.039826\n",
       "mfr_Q   -0.117120\n",
       "mfr_G   -0.234842\n",
       "Name: fiber, dtype: float64"
      ]
     },
     "execution_count": 177,
     "metadata": {},
     "output_type": "execute_result"
    }
   ],
   "source": [
    "# Fiber: highest correlation\n",
    "mfr_dummies[mfr_dummies.columns[1:]].corr()['fiber'][-6:].sort_values(ascending=False)"
   ]
  },
  {
   "cell_type": "code",
   "execution_count": 178,
   "metadata": {},
   "outputs": [
    {
     "data": {
      "text/plain": [
       "mfr_N   -0.334993\n",
       "mfr_Q   -0.128930\n",
       "mfr_R   -0.061461\n",
       "mfr_K    0.095050\n",
       "mfr_G    0.147871\n",
       "mfr_P    0.152881\n",
       "Name: sugars, dtype: float64"
      ]
     },
     "execution_count": 178,
     "metadata": {},
     "output_type": "execute_result"
    }
   ],
   "source": [
    "# Sugars: lowest correlation with sugars\n",
    "mfr_dummies[mfr_dummies.columns[1:]].corr()['sugars'][-6:].sort_values(ascending=True)"
   ]
  },
  {
   "cell_type": "code",
   "execution_count": 215,
   "metadata": {},
   "outputs": [
    {
     "data": {
      "text/plain": [
       "mfr_N    0.100928\n",
       "mfr_P    0.091492\n",
       "mfr_K    0.064188\n",
       "mfr_R   -0.032828\n",
       "mfr_G   -0.096898\n",
       "mfr_Q   -0.104344\n",
       "Name: potass, dtype: float64"
      ]
     },
     "execution_count": 215,
     "metadata": {},
     "output_type": "execute_result"
    }
   ],
   "source": [
    "# Potassium: highest correlation with potassium\n",
    "mfr_dummies[mfr_dummies.columns[1:]].corr()['potass'][-6:].sort_values(ascending=False)"
   ]
  },
  {
   "cell_type": "code",
   "execution_count": 179,
   "metadata": {},
   "outputs": [
    {
     "data": {
      "text/plain": [
       "mfr_N    0.076942\n",
       "mfr_K    0.064035\n",
       "mfr_Q    0.024903\n",
       "mfr_R   -0.014230\n",
       "mfr_P   -0.033786\n",
       "mfr_G   -0.132155\n",
       "Name: protein, dtype: float64"
      ]
     },
     "execution_count": 179,
     "metadata": {},
     "output_type": "execute_result"
    }
   ],
   "source": [
    "# Protein: highest correlation with protein\n",
    "mfr_dummies[mfr_dummies.columns[1:]].corr()['protein'][-6:].sort_values(ascending=False)"
   ]
  },
  {
   "cell_type": "code",
   "execution_count": 180,
   "metadata": {},
   "outputs": [
    {
     "data": {
      "text/plain": [
       "mfr_K   -0.263875\n",
       "mfr_N   -0.246047\n",
       "mfr_P   -0.045151\n",
       "mfr_R    0.080710\n",
       "mfr_G    0.221789\n",
       "mfr_Q    0.250976\n",
       "Name: fat, dtype: float64"
      ]
     },
     "execution_count": 180,
     "metadata": {},
     "output_type": "execute_result"
    }
   ],
   "source": [
    "# Fats: 2nd to lowest correlation with fat\n",
    "mfr_dummies[mfr_dummies.columns[1:]].corr()['fat'][-6:].sort_values(ascending=True)"
   ]
  },
  {
   "cell_type": "code",
   "execution_count": 181,
   "metadata": {},
   "outputs": [
    {
     "data": {
      "text/plain": [
       "mfr_Q   -0.368242\n",
       "mfr_P   -0.117687\n",
       "mfr_G    0.019321\n",
       "mfr_K    0.081832\n",
       "mfr_N    0.095914\n",
       "mfr_R    0.242504\n",
       "Name: carbo, dtype: float64"
      ]
     },
     "execution_count": 181,
     "metadata": {},
     "output_type": "execute_result"
    }
   ],
   "source": [
    "# Carbohydrates: 2nd to lowest correlation with carbohydrates\n",
    "mfr_dummies[mfr_dummies.columns[1:]].corr()['carbo'][-6:].sort_values(ascending=True)"
   ]
  },
  {
   "cell_type": "code",
   "execution_count": 182,
   "metadata": {},
   "outputs": [
    {
     "data": {
      "text/plain": [
       "mfr_G    0.198895\n",
       "mfr_K    0.192166\n",
       "mfr_R   -0.049805\n",
       "mfr_P   -0.053214\n",
       "mfr_Q   -0.241556\n",
       "mfr_N   -0.260795\n",
       "Name: vitamins, dtype: float64"
      ]
     },
     "execution_count": 182,
     "metadata": {},
     "output_type": "execute_result"
    }
   ],
   "source": [
    "# Vitamins: Lowest correlation with vitamins\n",
    "mfr_dummies[mfr_dummies.columns[1:]].corr()['vitamins'][-6:].sort_values(ascending=False)"
   ]
  },
  {
   "cell_type": "code",
   "execution_count": 183,
   "metadata": {},
   "outputs": [
    {
     "data": {
      "text/plain": [
       "mfr_N   -0.303605\n",
       "mfr_Q   -0.209030\n",
       "mfr_P    0.037697\n",
       "mfr_K    0.061110\n",
       "mfr_R    0.142780\n",
       "mfr_G    0.146392\n",
       "Name: calories, dtype: float64"
      ]
     },
     "execution_count": 183,
     "metadata": {},
     "output_type": "execute_result"
    }
   ],
   "source": [
    "# Calories: Lowest correlation with calories\n",
    "mfr_dummies[mfr_dummies.columns[1:]].corr()['calories'][-6:].sort_values(ascending=True)"
   ]
  },
  {
   "cell_type": "code",
   "execution_count": 184,
   "metadata": {},
   "outputs": [
    {
     "data": {
      "text/plain": [
       "mfr_N   -0.426439\n",
       "mfr_Q   -0.274636\n",
       "mfr_P   -0.059250\n",
       "mfr_K    0.118381\n",
       "mfr_R    0.157196\n",
       "mfr_G    0.309668\n",
       "Name: sodium, dtype: float64"
      ]
     },
     "execution_count": 184,
     "metadata": {},
     "output_type": "execute_result"
    }
   ],
   "source": [
    "# Sodium: Lowest correlation with sodium\n",
    "mfr_dummies[mfr_dummies.columns[1:]].corr()['sodium'][-6:].sort_values(ascending=True)"
   ]
  },
  {
   "cell_type": "markdown",
   "metadata": {},
   "source": [
    "### Compared to any of the other manufacturer cereals, Nabisco's cereals have the highest correlation with fiber and protein and the lowest correlation with sugars, calories, and sodium.\n",
    "\n",
    "The highest rated single cereal has (per serving) the most fiber: 14; the fewest calories: 50; the least sugars: 0; the highest potassium: 330.  These characteristics likely make up the criteria that ratings are based upon. \n",
    "\n",
    "Correlations between Nabisco manufactured cereals tend to match the expected pattern of the highest rated single cereal on average: highest fiber, fewest calories, least sugars, and highest potassium.  Nabisco manufactured cereals also tend to have the highest protein amounts."
   ]
  },
  {
   "cell_type": "markdown",
   "metadata": {},
   "source": [
    "### Is there a significant difference in the mean characteristics of Nabisco cereals and other manufacturer cereals?"
   ]
  },
  {
   "cell_type": "code",
   "execution_count": 226,
   "metadata": {},
   "outputs": [
    {
     "data": {
      "image/png": "[encoded data removed]",
      "text/plain": [
       "<Figure size 720x360 with 8 Axes>"
      ]
     },
     "metadata": {},
     "output_type": "display_data"
    }
   ],
   "source": [
    "# Subplots to look at differences between cereals in means of \n",
    "plt.figure(figsize=(10, 5))\n",
    "\n",
    "#Fiber\n",
    "plt.subplot(4, 2, 1)\n",
    "plt.ylim(0,7.5)\n",
    "sns.barplot(x='mfr', y='fiber', data=df);\n",
    "plt.xlabel('Manufacturer',fontsize= 15)\n",
    "plt.ylabel('Fiber',fontsize= 15)\n",
    "plt.title('Fiber Levels by Mfg',fontsize= 20);\n",
    "\n",
    "# Potassium\n",
    "plt.subplot(4, 2, 2)\n",
    "plt.ylim(0,250)\n",
    "sns.barplot(x='mfr', y='potass', data=df);\n",
    "plt.xlabel('Manufacturer',fontsize= 15)\n",
    "plt.ylabel('Potassium',fontsize= 15)\n",
    "plt.title('Potassium Levels by Mfg',fontsize= 20)\n",
    "\n",
    "#Sodium\n",
    "plt.subplot(4, 2, 3)\n",
    "plt.ylim(0,250)\n",
    "sns.barplot(x='mfr', y='sodium', data=df);\n",
    "plt.xlabel('Manufacturer',fontsize= 15)\n",
    "plt.ylabel('Sodium',fontsize= 15)\n",
    "plt.title('Sodium Levels by Mfg',fontsize= 20);\n",
    "\n",
    "# Sugar\n",
    "plt.subplot(4, 2, 4)\n",
    "plt.ylim(0,15)\n",
    "sns.barplot(x='mfr', y='sugars', data=df);\n",
    "plt.xlabel('Manufacturer',fontsize= 15)\n",
    "plt.ylabel('Sugars',fontsize= 15)\n",
    "plt.title('Sugar Levels by Mfg',fontsize= 20)\n",
    "\n",
    "# Fat\n",
    "plt.subplot(4, 2, 5)\n",
    "plt.ylim(0,4)\n",
    "sns.barplot(x='mfr', y='fat', data=df);\n",
    "plt.xlabel('Manufacturer',fontsize= 15)\n",
    "plt.ylabel('Fat',fontsize= 15)\n",
    "plt.title('Fat Levels by Mfg',fontsize= 20)\n",
    "\n",
    "# Carbs\n",
    "plt.subplot(4, 2, 6)\n",
    "plt.ylim(0,25)\n",
    "sns.barplot(x='mfr', y='carbo', data=df);\n",
    "plt.xlabel('Manufacturer',fontsize= 15)\n",
    "plt.ylabel('Carbs',fontsize= 15)\n",
    "plt.title('Carb Levels by Mfg',fontsize= 20)\n",
    "\n",
    "# Calories\n",
    "plt.subplot(4, 2, 7)\n",
    "plt.ylim(0,150)\n",
    "sns.barplot(x='mfr', y='calories', data=df);\n",
    "plt.xlabel('Manufacturer',fontsize= 15)\n",
    "plt.ylabel('Calories',fontsize= 15)\n",
    "plt.title('Calorie Levels by Mfg',fontsize= 20)\n",
    "\n",
    "# Vitamins\n",
    "plt.subplot(4, 2, 8)\n",
    "plt.ylim(0,60)\n",
    "sns.barplot(x='mfr', y='vitamins', data=df);\n",
    "plt.xlabel('Manufacturer',fontsize= 15)\n",
    "plt.ylabel('Vitamins',fontsize= 15)\n",
    "plt.title('Vitamins Levels by Mfg',fontsize= 20)\n",
    "\n",
    "plt.subplots_adjust(top=3, bottom=.025, left=0.10, right=0.95, hspace=0.5,\n",
    "                    wspace=0.75)\n",
    "\n",
    "plt.show()"
   ]
  },
  {
   "cell_type": "markdown",
   "metadata": {},
   "source": [
    "### Is there a statistically significant difference in Nabisco manufactured cereal characteristics as compared to all other manufacturer cereals represented in the sample?"
   ]
  },
  {
   "cell_type": "code",
   "execution_count": 221,
   "metadata": {},
   "outputs": [
    {
     "data": {
      "text/plain": [
       "Ttest_indResult(statistic=-3.0790238494795314, pvalue=0.0029011412396509166)"
      ]
     },
     "execution_count": 221,
     "metadata": {},
     "output_type": "execute_result"
    }
   ],
   "source": [
    "# Is there a significant difference in the mean fiber amount in Nabisco cereals?\n",
    "stats.ttest_ind(df[df.mfr == 'N'].fiber, df[df.mfr != 'N'].fiber)"
   ]
  },
  {
   "cell_type": "code",
   "execution_count": 222,
   "metadata": {},
   "outputs": [
    {
     "data": {
      "text/plain": [
       "Ttest_indResult(statistic=-3.0790238494795314, pvalue=0.0029011412396509166)"
      ]
     },
     "execution_count": 222,
     "metadata": {},
     "output_type": "execute_result"
    }
   ],
   "source": [
    "# Is there a significant difference in the mean potassium amount in Nabisco cereals?\n",
    "stats.ttest_ind(df[df.mfr == 'N'].potass, df[df.mfr != 'N'].potass)"
   ]
  },
  {
   "cell_type": "code",
   "execution_count": 224,
   "metadata": {},
   "outputs": [
    {
     "data": {
      "text/plain": [
       "Ttest_indResult(statistic=-4.082925352377544, pvalue=0.00011011072704564203)"
      ]
     },
     "execution_count": 224,
     "metadata": {},
     "output_type": "execute_result"
    }
   ],
   "source": [
    "# Is there a significant difference in the mean sodium amount in Nabisco cereals?\n",
    "stats.ttest_ind(df[df.mfr == 'N'].sodium, df[df.mfr != 'N'].sodium)"
   ]
  },
  {
   "cell_type": "code",
   "execution_count": 225,
   "metadata": {},
   "outputs": [
    {
     "data": {
      "text/plain": [
       "Ttest_indResult(statistic=-3.0790238494795314, pvalue=0.0029011412396509166)"
      ]
     },
     "execution_count": 225,
     "metadata": {},
     "output_type": "execute_result"
    }
   ],
   "source": [
    "# Is there a significant difference in the mean sugar amount in Nabisco cereals?\n",
    "stats.ttest_ind(df[df.mfr == 'N'].sugars, df[df.mfr != 'N'].sugars)"
   ]
  },
  {
   "cell_type": "code",
   "execution_count": 227,
   "metadata": {},
   "outputs": [
    {
     "data": {
      "text/plain": [
       "Ttest_indResult(statistic=-2.198412220393365, pvalue=0.031004364650240507)"
      ]
     },
     "execution_count": 227,
     "metadata": {},
     "output_type": "execute_result"
    }
   ],
   "source": [
    "# Is there a significant difference in the mean fat amount in Nabisco cereals?\n",
    "stats.ttest_ind(df[df.mfr == 'N'].fat, df[df.mfr != 'N'].fat)"
   ]
  },
  {
   "cell_type": "code",
   "execution_count": 230,
   "metadata": {},
   "outputs": [
    {
     "data": {
      "text/plain": [
       "Ttest_indResult(statistic=0.8344834037393463, pvalue=0.4066588067540863)"
      ]
     },
     "execution_count": 230,
     "metadata": {},
     "output_type": "execute_result"
    }
   ],
   "source": [
    "# Is there a significant difference in the mean carb amount in Nabisco cereals?\n",
    "stats.ttest_ind(df[df.mfr == 'N'].carbo, df[df.mfr != 'N'].carbo)"
   ]
  },
  {
   "cell_type": "code",
   "execution_count": 232,
   "metadata": {},
   "outputs": [
    {
     "data": {
      "text/plain": [
       "Ttest_indResult(statistic=-2.7595544440177537, pvalue=0.007269818586206901)"
      ]
     },
     "execution_count": 232,
     "metadata": {},
     "output_type": "execute_result"
    }
   ],
   "source": [
    "# Is there a significant difference in the mean calorie amount in Nabisco cereals?\n",
    "stats.ttest_ind(df[df.mfr == 'N'].calories, df[df.mfr != 'N'].calories)"
   ]
  },
  {
   "cell_type": "code",
   "execution_count": 233,
   "metadata": {},
   "outputs": [
    {
     "data": {
      "text/plain": [
       "Ttest_indResult(statistic=-2.339508171763163, pvalue=0.021973208481188743)"
      ]
     },
     "execution_count": 233,
     "metadata": {},
     "output_type": "execute_result"
    }
   ],
   "source": [
    "# Is there a significant difference in the mean sugar amount in Nabisco cereals?\n",
    "stats.ttest_ind(df[df.mfr == 'N'].vitamins, df[df.mfr != 'N'].vitamins)"
   ]
  },
  {
   "cell_type": "markdown",
   "metadata": {},
   "source": [
    "### As compared to all other manufacturers in the sample, Nabisco manufactured cereals have statistically different levels of:\n",
    "- Fiber\n",
    "- Potassium\n",
    "- Sodium\n",
    "- Sugars\n",
    "- Fat\n",
    "- Calories\n",
    "- Vitamins"
   ]
  },
  {
   "cell_type": "markdown",
   "metadata": {},
   "source": [
    "### As compared to all other manufacturers in the sample, Nabsico manufactured cereals do not have statistically different levels of:\n",
    "- Carbohydrates"
   ]
  },
  {
   "cell_type": "markdown",
   "metadata": {},
   "source": [
    "## Conclusion:\n",
    "\n",
    "Based on the analysis of the cereal data, it appears that the criteria used to rate the 80 cereals in this sample include:\n",
    "- High fiber\n",
    "- Low calories\n",
    "- Low sugar\n",
    "- High potassium\n",
    "\n",
    "Nabsico manufactured cereals have the highest mean rating of cereals in this sample.  Nabisco cereal characteristics match the expected criteria based on the highest rated single cereal.  In addition, Nabisco cereal characteristics also show a statistically significant difference in the means of these characteristics as compared to other cereal manufacturers in the sample."
   ]
  },
  {
   "cell_type": "markdown",
   "metadata": {},
   "source": [
    "## Proposal for further research:\n",
    "\n"
   ]
  }
 ],
 "metadata": {
  "kernelspec": {
   "display_name": "Python 3",
   "language": "python",
   "name": "python3"
  },
  "language_info": {
   "codemirror_mode": {
    "name": "ipython",
    "version": 3
   },
   "file_extension": ".py",
   "mimetype": "text/x-python",
   "name": "python",
   "nbconvert_exporter": "python",
   "pygments_lexer": "ipython3",
   "version": "3.6.4"
  }
 },
 "nbformat": 4,
 "nbformat_minor": 2
}
