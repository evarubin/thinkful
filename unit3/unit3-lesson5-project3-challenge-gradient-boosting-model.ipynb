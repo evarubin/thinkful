{
 "cells": [
  {
   "cell_type": "markdown",
   "metadata": {},
   "source": [
    "# Unit 3: Lesson 5: Project 3: Gradient Boost Model Drill with European Social Survey Data\n",
    "\n",
    "### Eva Rubin\n",
    "#### Dec 2018"
   ]
  },
  {
   "cell_type": "code",
   "execution_count": 509,
   "metadata": {
    "run_control": {
     "frozen": false,
     "read_only": false
    }
   },
   "outputs": [],
   "source": [
    "import pandas as pd\n",
    "import numpy as np\n",
    "import scipy\n",
    "import matplotlib.pyplot as plt\n",
    "import seaborn as sns\n",
    "%matplotlib inline\n",
    "\n",
    "from sklearn import ensemble\n",
    "from sklearn import datasets\n",
    "from sklearn.utils import shuffle\n",
    "from sklearn import metrics\n",
    "from sklearn.metrics import mean_squared_error\n",
    "\n",
    "from sklearn.model_selection import cross_val_score   #Additional scklearn functions\n",
    "from sklearn.model_selection import GridSearchCV   #Perforing grid search"
   ]
  },
  {
   "cell_type": "markdown",
   "metadata": {},
   "source": [
    "### Thinkful Gradient boost guided example\n",
    "\n",
    "Having walked through gradient boost by hand, now let's try it with SKlearn.  We'll still use the European Social Survey Data, but now with a categorical outcome: Whether or not someone lives with a partner."
   ]
  },
  {
   "cell_type": "code",
   "execution_count": 510,
   "metadata": {},
   "outputs": [],
   "source": [
    "df = pd.read_csv((\n",
    "    \"https://raw.githubusercontent.com/Thinkful-Ed/data-201-resources/\"\n",
    "    \"master/ESS_practice_data/ESSdata_Thinkful.csv\")).dropna()\n",
    "\n",
    "# Definine outcome and predictors.\n",
    "# Set our outcome to 0 and 1.\n",
    "y = df['partner'] - 1\n",
    "X = df.loc[:, ~df.columns.isin(['partner', 'cntry', 'idno', 'year'])]\n",
    "\n",
    "# Make the categorical variable 'country' into dummies.\n",
    "X = pd.concat([X, pd.get_dummies(df['cntry'])], axis=1)\n",
    "\n",
    "# Create training and test sets.\n",
    "offset = int(X.shape[0] * 0.9)\n",
    "\n",
    "# Put 90% of the data in the training set.\n",
    "X_train, y_train = X[:offset], y[:offset]\n",
    "\n",
    "# And put 10% in the test set.\n",
    "X_test, y_test = X[offset:], y[offset:]"
   ]
  },
  {
   "cell_type": "markdown",
   "metadata": {},
   "source": [
    "Since we're now working with a binary outcome, we've switched to a classifier.  Now our loss function can't be the residuals.  Our options are \"deviance\", or \"exponential\".  Deviance is used for logistic regression, and we'll try that here."
   ]
  },
  {
   "cell_type": "code",
   "execution_count": 517,
   "metadata": {},
   "outputs": [
    {
     "name": "stdout",
     "output_type": "stream",
     "text": [
      "Training set accuracy:\n",
      "Percent Type I errors: 0.04650845608292417\n",
      "Percent Type II errors: 0.17539552645935624\n",
      "\n",
      "Test set accuracy:\n",
      "Percent Type I errors: 0.05766871165644172\n",
      "Percent Type II errors: 0.19263803680981595\n"
     ]
    }
   ],
   "source": [
    "# We'll make 500 iterations, use 2-deep trees, and set our loss function.\n",
    "params = {'n_estimators': 500,\n",
    "          'max_depth': 2,\n",
    "          'loss': 'deviance'}\n",
    "\n",
    "# Initialize and fit the model.\n",
    "clf = ensemble.GradientBoostingClassifier(**params)\n",
    "clf.fit(X_train, y_train)\n",
    "\n",
    "predict_train = clf.predict(X_train)\n",
    "predict_test = clf.predict(X_test)\n",
    "\n",
    "# Accuracy tables.\n",
    "table_train = pd.crosstab(y_train, predict_train, margins=True)\n",
    "table_test = pd.crosstab(y_test, predict_test, margins=True)\n",
    "\n",
    "train_tI_errors = table_train.loc[0.0,1.0] / table_train.loc['All','All']\n",
    "train_tII_errors = table_train.loc[1.0,0.0] / table_train.loc['All','All']\n",
    "\n",
    "test_tI_errors = table_test.loc[0.0,1.0]/table_test.loc['All','All']\n",
    "test_tII_errors = table_test.loc[1.0,0.0]/table_test.loc['All','All']\n",
    "\n",
    "print((\n",
    "    'Training set accuracy:\\n'\n",
    "    'Percent Type I errors: {}\\n'\n",
    "    'Percent Type II errors: {}\\n\\n'\n",
    "    'Test set accuracy:\\n'\n",
    "    'Percent Type I errors: {}\\n'\n",
    "    'Percent Type II errors: {}'\n",
    ").format(train_tI_errors, train_tII_errors, test_tI_errors, test_tII_errors))\n"
   ]
  },
  {
   "cell_type": "markdown",
   "metadata": {},
   "source": [
    "Unlike decision trees, gradient boost solutions are not terribly easy to interpret on the surface.  But they aren't quite a black box.  We can get a measure of how important various features are by counting how many times a feature is used over the course of many decision trees."
   ]
  },
  {
   "cell_type": "code",
   "execution_count": 518,
   "metadata": {},
   "outputs": [
    {
     "data": {
      "image/png": "[encoded data removed]",
      "text/plain": [
       "<Figure size 432x288 with 1 Axes>"
      ]
     },
     "metadata": {},
     "output_type": "display_data"
    }
   ],
   "source": [
    "feature_importance = clf.feature_importances_\n",
    "\n",
    "# Make importances relative to max importance.\n",
    "feature_importance = 100.0 * (feature_importance / feature_importance.max())\n",
    "sorted_idx = np.argsort(feature_importance)\n",
    "pos = np.arange(sorted_idx.shape[0]) + .5\n",
    "plt.subplot(1, 2, 2)\n",
    "plt.barh(pos, feature_importance[sorted_idx], align='center')\n",
    "plt.yticks(pos, X.columns[sorted_idx])\n",
    "plt.xlabel('Relative Importance')\n",
    "plt.title('Variable Importance')\n",
    "plt.show()"
   ]
  },
  {
   "cell_type": "markdown",
   "metadata": {},
   "source": [
    "It appears that age and happiness are the most important features in predicting whether or not someone lives with a partner."
   ]
  },
  {
   "cell_type": "markdown",
   "metadata": {
    "collapsed": true
   },
   "source": [
    "## DRILL: Improve the gradient boost model\n",
    "\n",
    "Will try:\n",
    "\n",
    "* Applying more overfitting-prevention strategies like subsampling\n",
    "* Changing iterations\n",
    "* Trying a different loss function\n",
    "* Changing the structure of the weak learner: Allowing more leaves in the tree, or other modifications\n",
    "* Creating new features\n"
   ]
  },
  {
   "cell_type": "markdown",
   "metadata": {},
   "source": [
    "## Define Modified Outcome and Predictors, and Model:\n",
    "\n",
    "Explanations and function comes from:\n",
    "- https://www.analyticsvidhya.com/blog/2016/02/complete-guide-parameter-tuning-gradient-boosting-gbm-python/\n",
    "\n",
    "Check out:\n",
    "\n",
    "- https://www.kaggle.com/kevinarvai/fine-tuning-a-classifier-in-scikit-learn\n",
    "- https://stats.stackexchange.com/questions/173390/gradient-boosting-tree-vs-random-forest"
   ]
  },
  {
   "cell_type": "code",
   "execution_count": 520,
   "metadata": {},
   "outputs": [],
   "source": [
    "# Define modified outcome and predictors.\n",
    "# Set our outcome to 0 and 1.\n",
    "y2 = df['partner'] - 1\n",
    "X2 = df.loc[:, ~df.columns.isin(['partner', 'cntry', 'year', 'idno'])]\n",
    "\n",
    "# Make the categorical variable 'country' into dummies.\n",
    "X2 = pd.concat([X2, pd.get_dummies(df['cntry'])], axis=1)\n",
    "\n",
    "# Create training and test sets\n",
    "offset2 = int(X2.shape[0] * 0.9)\n",
    "\n",
    "# Put 90% of the data in the training set.\n",
    "X_train2, y_train2 = X2[:offset], y2[:offset]\n",
    "\n",
    "# And put 30% in the test set.\n",
    "X_test2, y_test2 = X2[offset:], y2[offset:]"
   ]
  },
  {
   "cell_type": "code",
   "execution_count": 580,
   "metadata": {},
   "outputs": [],
   "source": [
    "def modelfit(alg, df, predictors, performCV=True, printFeatureImportance=True, cv_folds=5):\n",
    "    \n",
    "    #Fit the algorithm on the data\n",
    "    alg.fit(X_train2, y_train2)\n",
    "        \n",
    "    #Predict training set:\n",
    "    df_predictions = alg.predict(X_train2)\n",
    "    df_predprob = alg.predict_proba(X_train2)[:,1]\n",
    "    \n",
    "    #Perform cross-validation:\n",
    "    if performCV:\n",
    "        cv_score = cross_val_score(alg, X_train2, y_train2, cv=cv_folds, scoring='roc_auc')\n",
    "    \n",
    "    #Print model report:\n",
    "    print(\"\\nModel Report\")\n",
    "    print(\"Accuracy : %.4g\" % metrics.accuracy_score(y_train2.values, df_predictions))\n",
    "    print(\"AUC Score (Train): %f\" % metrics.roc_auc_score(y_train2, df_predprob))\n",
    "    \n",
    "    if performCV:\n",
    "        print(\"CV Score : Mean - %.7g | Std - %.7g | Min - %.7g | Max - %.7g\" % (np.mean(cv_score),np.std(cv_score),np.min(cv_score),np.max(cv_score)))\n",
    "        \n",
    "    #Print Feature Importance:\n",
    "    if printFeatureImportance:\n",
    "        feat_imp = pd.Series(alg.feature_importances_, predictors).sort_values(ascending=False)\n",
    "        feat_imp.plot(kind='bar', title='Feature Importances')\n",
    "        plt.ylabel('Feature Importance Score')\n",
    "    "
   ]
  },
  {
   "cell_type": "markdown",
   "metadata": {},
   "source": [
    "## Baseline Model"
   ]
  },
  {
   "cell_type": "code",
   "execution_count": 522,
   "metadata": {},
   "outputs": [
    {
     "name": "stdout",
     "output_type": "stream",
     "text": [
      "\n",
      "Model Report\n",
      "Accuracy : 0.7771\n",
      "AUC Score (Train): 0.823648\n",
      "CV Score : Mean - 0.7745918 | Std - 0.02375653 | Min - 0.7294155 | Max - 0.7959507\n"
     ]
    },
    {
     "data": {
      "image/png": "[encoded data removed]",
      "text/plain": [
       "<Figure size 432x288 with 1 Axes>"
      ]
     },
     "metadata": {},
     "output_type": "display_data"
    }
   ],
   "source": [
    "#Choose all predictors except target & IDcols\n",
    "predictors = [x for x in X_train2.columns if x not in df[['partner', 'cntry', 'year', 'idno']]]\n",
    "\n",
    "gbm0 = ensemble.GradientBoostingClassifier(random_state=10)\n",
    "modelfit(gbm0, df, predictors)\n"
   ]
  },
  {
   "cell_type": "markdown",
   "metadata": {},
   "source": [
    "## Get optimum number of trees for learning rate of .1\n",
    "\n",
    "Starting from 30 trees, test every 2 trees up to 81.  Result is that 78 trees is optimal for learing rate of .1\n",
    "\n",
    "- First tested with wider range and then narrowed as honed in on best n_estimator.\n",
    "\n",
    "### learning_rate:\n",
    "- This determines the impact of each tree on the final outcome. GBM works by starting with an initial estimate which is updated using the output of each tree. The learning parameter controls the magnitude of this change in the estimates.\n",
    "- Lower values are generally preferred as they make the model robust to the specific characteristics of tree and thus allowing it to generalize well.\n",
    "- Lower values would require higher number of trees to model all the relations and will be computationally expensive.\n",
    "\n",
    "### Fix learning rate and number of estimators for tuning tree-based parameters\n",
    "In order to decide on boosting parameters, we need to set some initial values of other parameters. Lets take the following values:\n",
    "\n",
    "- min_samples_split = 500 : This should be ~0.5-1% of total values. Since this is imbalanced class problem, we’ll take a small value from the range.\n",
    "- min_samples_leaf = 50 : Can be selected based on intuition. This is just used for preventing overfitting and again a small value because of imbalanced classes.\n",
    "- max_depth = 8 : Should be chosen (5-8) based on the number of observations and predictors. This has 87K rows and 49 columns so lets take 8 here.\n",
    "- max_features = ‘sqrt’ : Its a general thumb-rule to start with square root.\n",
    "- subsample = 0.8 : This is a commonly used used start value\n",
    "\n",
    "\n",
    "Please note that all the above are just initial estimates and will be tuned later. Lets take the default learning rate of 0.1 here and check the optimum number of trees for that. For this purpose, we can do a grid search and test out values from 20 to 80 in steps of 10.\n"
   ]
  },
  {
   "cell_type": "code",
   "execution_count": 574,
   "metadata": {},
   "outputs": [
    {
     "data": {
      "text/plain": [
       "(GradientBoostingClassifier(criterion='friedman_mse', init=None,\n",
       "               learning_rate=0.1, loss='deviance', max_depth=8,\n",
       "               max_features='sqrt', max_leaf_nodes=None,\n",
       "               min_impurity_decrease=0.0, min_impurity_split=None,\n",
       "               min_samples_leaf=50, min_samples_split=500,\n",
       "               min_weight_fraction_leaf=0.0, n_estimators=78,\n",
       "               n_iter_no_change=None, presort='auto', random_state=10,\n",
       "               subsample=0.8, tol=0.0001, validation_fraction=0.1,\n",
       "               verbose=0, warm_start=False),\n",
       " {'n_estimators': 78},\n",
       " 0.7874483491406059)"
      ]
     },
     "execution_count": 574,
     "metadata": {},
     "output_type": "execute_result"
    }
   ],
   "source": [
    "#Choose all predictors except target & IDcols\n",
    "predictors = [x for x in X_train2.columns if x not in df[['partner', 'cntry', 'year', 'idno']]]\n",
    "\n",
    "param_test1 = {'n_estimators':range(30,81,2)}\n",
    "\n",
    "gsearch1 = GridSearchCV(estimator = ensemble.GradientBoostingClassifier(learning_rate=0.1, \n",
    "                                                               min_samples_split=500,min_samples_leaf=50,\n",
    "                                                               max_depth=8,max_features='sqrt',subsample=0.8,\n",
    "                                                               random_state=10), \n",
    "param_grid = param_test1, scoring='roc_auc',n_jobs=4,iid=False, cv=5)\n",
    "\n",
    "gsearch1.fit(X_train2, y_train2)\n",
    "gsearch1.best_estimator_, gsearch1.best_params_, gsearch1.best_score_"
   ]
  },
  {
   "cell_type": "markdown",
   "metadata": {},
   "source": [
    "## Tune Tree Specific Parameters\n",
    "\n",
    "- Tune max_depth and num_samples_split\n",
    "- Tune min_samples_leaf\n",
    "- Tune max_features\n",
    "\n",
    "The order of tuning variables should be decided carefully. You should take the variables with a higher impact on outcome first. For instance, max_depth and min_samples_split have a significant impact and we’re tuning those first.\n",
    "\n",
    "You can vary the number of values you are testing based on what your system can handle.\n",
    "\n",
    "To start with, test max_depth values of 5 to 15 in steps of 2 and min_samples_split from 200 to 1000 in steps of 200. You can set wider ranges as well and then perform multiple iterations for smaller ranges.\n"
   ]
  },
  {
   "cell_type": "code",
   "execution_count": 583,
   "metadata": {},
   "outputs": [
    {
     "data": {
      "text/plain": [
       "(GradientBoostingClassifier(criterion='friedman_mse', init=None,\n",
       "               learning_rate=0.1, loss='deviance', max_depth=2,\n",
       "               max_features='sqrt', max_leaf_nodes=None,\n",
       "               min_impurity_decrease=0.0, min_impurity_split=None,\n",
       "               min_samples_leaf=1, min_samples_split=600,\n",
       "               min_weight_fraction_leaf=0.0, n_estimators=78,\n",
       "               n_iter_no_change=None, presort='auto', random_state=10,\n",
       "               subsample=0.8, tol=0.0001, validation_fraction=0.1,\n",
       "               verbose=0, warm_start=False),\n",
       " {'max_depth': 2, 'min_samples_split': 600},\n",
       " 0.779032358790924)"
      ]
     },
     "execution_count": 583,
     "metadata": {},
     "output_type": "execute_result"
    }
   ],
   "source": [
    "# max depth and num_samples_split\n",
    "param_test2 = {'max_depth':range(1,8,1), 'min_samples_split':range(400,801,100)}\n",
    "gsearch2 = GridSearchCV(estimator = ensemble.GradientBoostingClassifier(learning_rate=0.1, n_estimators=78,\n",
    "                                                                        max_features='sqrt', subsample=0.8,\n",
    "                                                                        random_state=10), \n",
    "param_grid = param_test2, scoring='roc_auc',n_jobs=4,iid=False, cv=5)\n",
    "\n",
    "gsearch2.fit(X_train2, y_train2)\n",
    "gsearch2.best_estimator_, gsearch2.best_params_, gsearch2.best_score_"
   ]
  },
  {
   "cell_type": "code",
   "execution_count": 584,
   "metadata": {},
   "outputs": [
    {
     "data": {
      "text/plain": [
       "(GradientBoostingClassifier(criterion='friedman_mse', init=None,\n",
       "               learning_rate=0.1, loss='deviance', max_depth=2,\n",
       "               max_features='sqrt', max_leaf_nodes=None,\n",
       "               min_impurity_decrease=0.0, min_impurity_split=None,\n",
       "               min_samples_leaf=1, min_samples_split=600,\n",
       "               min_weight_fraction_leaf=0.0, n_estimators=78,\n",
       "               n_iter_no_change=None, presort='auto', random_state=10,\n",
       "               subsample=0.8, tol=0.0001, validation_fraction=0.1,\n",
       "               verbose=0, warm_start=False),\n",
       " {'min_samples_leaf': 1, 'min_samples_split': 600},\n",
       " 0.779032358790924)"
      ]
     },
     "execution_count": 584,
     "metadata": {},
     "output_type": "execute_result"
    }
   ],
   "source": [
    "param_test3 = {'min_samples_split':range(500,701,25), 'min_samples_leaf':range(1,8,1)}\n",
    "gsearch3 = GridSearchCV(estimator = ensemble.GradientBoostingClassifier(learning_rate=0.1, n_estimators=78,max_depth=2,\n",
    "                                                               max_features='sqrt', subsample=0.8, random_state=10), \n",
    "param_grid = param_test3, scoring='roc_auc',n_jobs=4,iid=False, cv=5)\n",
    "gsearch3.fit(X_train2, y_train2)\n",
    "gsearch3.best_estimator_, gsearch3.best_params_, gsearch3.best_score_"
   ]
  },
  {
   "cell_type": "code",
   "execution_count": 585,
   "metadata": {},
   "outputs": [
    {
     "name": "stdout",
     "output_type": "stream",
     "text": [
      "\n",
      "Model Report\n",
      "Accuracy : 0.7535\n",
      "AUC Score (Train): 0.795953\n",
      "CV Score : Mean - 0.7790324 | Std - 0.02791092 | Min - 0.7320733 | Max - 0.8161961\n"
     ]
    },
    {
     "data": {
      "image/png": "[encoded data removed]",
      "text/plain": [
       "<Figure size 432x288 with 1 Axes>"
      ]
     },
     "metadata": {},
     "output_type": "display_data"
    }
   ],
   "source": [
    "modelfit(gsearch3.best_estimator_, df, predictors)"
   ]
  },
  {
   "cell_type": "code",
   "execution_count": 702,
   "metadata": {},
   "outputs": [
    {
     "name": "stdout",
     "output_type": "stream",
     "text": [
      "Training set accuracy:\n",
      "Percent Type I errors  (False POS): 0.03409710856519367\n",
      "Percent Type II errors (False NEG): 0.2123567921440262\n",
      "\n",
      "Test set accuracy:\n",
      "Percent Type I errors  (False POS): 0.046625766871165646\n",
      "Percent Type II errors (False NEG): 0.2184049079754601\n"
     ]
    }
   ],
   "source": [
    "# We'll make 78 iterations, use 2-deep trees, and set our loss function.\n",
    "# https://machinelearningmastery.com/configure-gradient-boosting-algorithm/\n",
    "# https://www.analyticsvidhya.com/blog/2016/02/complete-guide-parameter-tuning-gradient-boosting-gbm-python/\n",
    "\n",
    "params2 = {'criterion':'friedman_mse',\n",
    "           'init': None,\n",
    "           'learning_rate': 0.1,\n",
    "           'loss': 'deviance',\n",
    "           'max_depth': 2,\n",
    "            'max_features': 'sqrt',\n",
    "           'max_leaf_nodes': None,\n",
    "           'min_impurity_decrease': 0.0, 'min_impurity_split': None,\n",
    "            'min_samples_leaf': 1, 'min_samples_split': 600,\n",
    "            'min_weight_fraction_leaf': 0.0, 'n_estimators': 78,\n",
    "            'n_iter_no_change': None, 'presort': 'auto', 'random_state': 10,\n",
    "            'subsample': 0.8, 'tol': 0.0001, 'validation_fraction': 0.1,\n",
    "             'verbose': 0, 'warm_start': False}\n",
    "\n",
    "# Initialize and fit the model.\n",
    "clf2 = ensemble.GradientBoostingClassifier(**params2)\n",
    "clf2.fit(X_train2, y_train2)\n",
    "\n",
    "predict_train2 = clf2.predict(X_train2)\n",
    "predict_test2 = clf2.predict(X_test2)\n",
    "\n",
    "# Accuracy tables.\n",
    "table_train2 = pd.crosstab(y_train2, predict_train2, margins=True)\n",
    "table_test2 = pd.crosstab(y_test2, predict_test2, margins=True)\n",
    "\n",
    "train_tI_errors2 = table_train2.loc[0.0,1.0] / table_train2.loc['All','All']\n",
    "train_tII_errors2 = table_train2.loc[1.0,0.0] / table_train2.loc['All','All']\n",
    "\n",
    "test_tI_errors2 = table_test2.loc[0.0,1.0]/table_test2.loc['All','All']\n",
    "test_tII_errors2 = table_test2.loc[1.0,0.0]/table_test2.loc['All','All']\n",
    "\n",
    "print((\n",
    "    'Training set accuracy:\\n'\n",
    "    'Percent Type I errors  (False POS): {}\\n'\n",
    "    'Percent Type II errors (False NEG): {}\\n\\n'\n",
    "    'Test set accuracy:\\n'\n",
    "    'Percent Type I errors  (False POS): {}\\n'\n",
    "    'Percent Type II errors (False NEG): {}'\n",
    ").format(train_tI_errors2, train_tII_errors2, test_tI_errors2, test_tII_errors2))\n"
   ]
  },
  {
   "cell_type": "markdown",
   "metadata": {},
   "source": [
    "## Tune max_features\n",
    "check out:\n",
    "https://medium.com/@mohtedibf/indepth-parameter-tuning-for-decision-tree-6753118a03c3"
   ]
  },
  {
   "cell_type": "code",
   "execution_count": 712,
   "metadata": {},
   "outputs": [
    {
     "data": {
      "text/plain": [
       "(GradientBoostingClassifier(criterion='friedman_mse', init=None,\n",
       "               learning_rate=0.1, loss='deviance', max_depth=2,\n",
       "               max_features=0.75, max_leaf_nodes=None,\n",
       "               min_impurity_decrease=0.0, min_impurity_split=None,\n",
       "               min_samples_leaf=1, min_samples_split=600,\n",
       "               min_weight_fraction_leaf=0.0, n_estimators=78,\n",
       "               n_iter_no_change=None, presort='auto', random_state=10,\n",
       "               subsample=0.8, tol=0.0001, validation_fraction=0.1,\n",
       "               verbose=0, warm_start=False),\n",
       " {'max_features': 0.75},\n",
       " 0.7806901467260483)"
      ]
     },
     "execution_count": 712,
     "metadata": {},
     "output_type": "execute_result"
    }
   ],
   "source": [
    "\n",
    "param_test3a = {'max_features': (.5, .6, .7, .75, .8, .9)}\n",
    "\n",
    "gsearch3a = GridSearchCV(estimator = ensemble.GradientBoostingClassifier(learning_rate=0.1, n_estimators=78,max_depth=2, \n",
    "                                                                min_samples_split=600, min_samples_leaf=1, subsample=0.8, \n",
    "                                                                random_state=10),\n",
    "param_grid = param_test3a, scoring='roc_auc',n_jobs=4,iid=False, cv=5)\n",
    "gsearch3a.fit(X_train2, y_train2)\n",
    "gsearch3a.best_estimator_, gsearch3a.best_params_, gsearch3a.best_score_"
   ]
  },
  {
   "cell_type": "code",
   "execution_count": 713,
   "metadata": {},
   "outputs": [
    {
     "name": "stdout",
     "output_type": "stream",
     "text": [
      "\n",
      "Model Report\n",
      "Accuracy : 0.7595\n",
      "AUC Score (Train): 0.800225\n",
      "CV Score : Mean - 0.7806901 | Std - 0.02834367 | Min - 0.7294547 | Max - 0.8137109\n"
     ]
    },
    {
     "data": {
      "image/png": "[encoded data removed]",
      "text/plain": [
       "<Figure size 432x288 with 1 Axes>"
      ]
     },
     "metadata": {},
     "output_type": "display_data"
    }
   ],
   "source": [
    "modelfit(gsearch3a.best_estimator_, df, predictors)"
   ]
  },
  {
   "cell_type": "markdown",
   "metadata": {},
   "source": [
    "## Tune Subsampling"
   ]
  },
  {
   "cell_type": "code",
   "execution_count": 714,
   "metadata": {},
   "outputs": [
    {
     "data": {
      "text/plain": [
       "(GradientBoostingClassifier(criterion='friedman_mse', init=None,\n",
       "               learning_rate=0.1, loss='deviance', max_depth=2,\n",
       "               max_features=0.75, max_leaf_nodes=None,\n",
       "               min_impurity_decrease=0.0, min_impurity_split=None,\n",
       "               min_samples_leaf=1, min_samples_split=600,\n",
       "               min_weight_fraction_leaf=0.0, n_estimators=78,\n",
       "               n_iter_no_change=None, presort='auto', random_state=10,\n",
       "               subsample=0.75, tol=0.0001, validation_fraction=0.1,\n",
       "               verbose=0, warm_start=False),\n",
       " {'subsample': 0.75},\n",
       " 0.7822589324042785)"
      ]
     },
     "execution_count": 714,
     "metadata": {},
     "output_type": "execute_result"
    }
   ],
   "source": [
    "\n",
    "param_test3b = {'subsample':[0.6,0.7,0.75,0.8,0.85,0.9]}\n",
    "\n",
    "gsearch3b = GridSearchCV(estimator = ensemble.GradientBoostingClassifier(learning_rate=0.1, n_estimators=78,max_depth=2, \n",
    "                                                                min_samples_split=600, min_samples_leaf=1, subsample=0.8, \n",
    "                                                                random_state=10, max_features=.75),\n",
    "param_grid = param_test3b, scoring='roc_auc',n_jobs=4,iid=False, cv=5)\n",
    "gsearch3b.fit(X_train2, y_train2)\n",
    "gsearch3b.best_estimator_, gsearch3b.best_params_, gsearch3b.best_score_"
   ]
  },
  {
   "cell_type": "code",
   "execution_count": 715,
   "metadata": {},
   "outputs": [
    {
     "name": "stdout",
     "output_type": "stream",
     "text": [
      "\n",
      "Model Report\n",
      "Accuracy : 0.7602\n",
      "AUC Score (Train): 0.800898\n",
      "CV Score : Mean - 0.7822589 | Std - 0.02986709 | Min - 0.7312393 | Max - 0.8221249\n"
     ]
    },
    {
     "data": {
      "image/png": "[encoded data removed]",
      "text/plain": [
       "<Figure size 432x288 with 1 Axes>"
      ]
     },
     "metadata": {},
     "output_type": "display_data"
    }
   ],
   "source": [
    "modelfit(gsearch3b.best_estimator_, df, predictors)"
   ]
  },
  {
   "cell_type": "markdown",
   "metadata": {},
   "source": [
    "### While max_features and subsample parameters increased accuracy and cross validation scores, it seems to have increased Type I and Type II errors again.\n",
    "\n",
    "Will continue with tuning parameters for purposes of challenge."
   ]
  },
  {
   "cell_type": "code",
   "execution_count": 716,
   "metadata": {},
   "outputs": [
    {
     "name": "stdout",
     "output_type": "stream",
     "text": [
      "Training set accuracy:\n",
      "Percent Type I errors  (False POS): 0.04132569558101473\n",
      "Percent Type II errors (False NEG): 0.19844517184942717\n",
      "\n",
      "Test set accuracy:\n",
      "Percent Type I errors  (False POS): 0.05276073619631902\n",
      "Percent Type II errors (False NEG): 0.2098159509202454\n"
     ]
    }
   ],
   "source": [
    "# We'll make 78 iterations, use 4-deep trees, and set our loss function.\n",
    "# https://machinelearningmastery.com/configure-gradient-boosting-algorithm/\n",
    "# https://www.analyticsvidhya.com/blog/2016/02/complete-guide-parameter-tuning-gradient-boosting-gbm-python/\n",
    "\n",
    "params2 = {'criterion':'friedman_mse',\n",
    "           'init': None,\n",
    "           'learning_rate': 0.1,\n",
    "           'loss': 'deviance',\n",
    "           'max_depth': 2,\n",
    "           'max_features': .75,\n",
    "           'max_leaf_nodes': None,\n",
    "           'min_impurity_decrease': 0.0, 'min_impurity_split': None,\n",
    "            'min_samples_leaf': 1, 'min_samples_split': 600,\n",
    "            'min_weight_fraction_leaf': 0.0, 'n_estimators': 78,\n",
    "            'n_iter_no_change': None, 'presort': 'auto', 'random_state': 10,\n",
    "            'subsample': 0.75, 'tol': 0.0001, 'validation_fraction': 0.1,\n",
    "             'verbose': 0, 'warm_start': False}\n",
    "\n",
    "# Initialize and fit the model.\n",
    "clf2 = ensemble.GradientBoostingClassifier(**params2)\n",
    "clf2.fit(X_train2, y_train2)\n",
    "\n",
    "predict_train2 = clf2.predict(X_train2)\n",
    "predict_test2 = clf2.predict(X_test2)\n",
    "\n",
    "# Accuracy tables.\n",
    "table_train2 = pd.crosstab(y_train2, predict_train2, margins=True)\n",
    "table_test2 = pd.crosstab(y_test2, predict_test2, margins=True)\n",
    "\n",
    "train_tI_errors2 = table_train2.loc[0.0,1.0] / table_train2.loc['All','All']\n",
    "train_tII_errors2 = table_train2.loc[1.0,0.0] / table_train2.loc['All','All']\n",
    "\n",
    "test_tI_errors2 = table_test2.loc[0.0,1.0]/table_test2.loc['All','All']\n",
    "test_tII_errors2 = table_test2.loc[1.0,0.0]/table_test2.loc['All','All']\n",
    "\n",
    "print((\n",
    "    'Training set accuracy:\\n'\n",
    "    'Percent Type I errors  (False POS): {}\\n'\n",
    "    'Percent Type II errors (False NEG): {}\\n\\n'\n",
    "    'Test set accuracy:\\n'\n",
    "    'Percent Type I errors  (False POS): {}\\n'\n",
    "    'Percent Type II errors (False NEG): {}'\n",
    ").format(train_tI_errors2, train_tII_errors2, test_tI_errors2, test_tII_errors2))"
   ]
  },
  {
   "cell_type": "markdown",
   "metadata": {},
   "source": [
    "## Decrease learning rate and increase number of trees proportionally"
   ]
  },
  {
   "cell_type": "code",
   "execution_count": 718,
   "metadata": {},
   "outputs": [
    {
     "name": "stdout",
     "output_type": "stream",
     "text": [
      "\n",
      "Model Report\n",
      "Accuracy : 0.7609\n",
      "AUC Score (Train): 0.800235\n",
      "CV Score : Mean - 0.781693 | Std - 0.02861834 | Min - 0.7305025 | Max - 0.816562\n"
     ]
    },
    {
     "data": {
      "image/png": "[encoded data removed]",
      "text/plain": [
       "<Figure size 432x288 with 1 Axes>"
      ]
     },
     "metadata": {},
     "output_type": "display_data"
    }
   ],
   "source": [
    "                      \n",
    "predictors = [x for x in X_train2.columns if x not in df[['partner', 'cntry', 'year', 'idno']]]\n",
    "gbm_tuned_1 = ensemble.GradientBoostingClassifier(learning_rate=0.05, n_estimators=156,max_depth=2,\n",
    "                                                               max_features=.75, subsample=0.75, random_state=10)\n",
    "modelfit(gbm_tuned_1, df, predictors)\n"
   ]
  },
  {
   "cell_type": "markdown",
   "metadata": {},
   "source": [
    "### If learning_rate is .05 and max_features (.75) and subsample (.75) parameters are used as identified best parameters, Type I and Type II errors are not reduced:\n",
    "\n",
    "**learning_rate is .05 and max_features (.75) and subsample (.75):**\n",
    "Training set accuracy:\n",
    "Percent Type I errors  (False POS): 0.04187124931805783\n",
    "Percent Type II errors (False NEG): 0.19939989088925258\n",
    "\n",
    "Test set accuracy:\n",
    "Percent Type I errors  (False POS): 0.053987730061349694\n",
    "Percent Type II errors (False NEG): 0.2098159509202454\n",
    "\n",
    "**learning_rate is .05 and max_features (sqrt) and subsample (.8):**\n",
    "Training set accuracy:\n",
    "Percent Type I errors  (False POS): 0.03314238952536825\n",
    "Percent Type II errors (False NEG): 0.2133115111838516\n",
    "\n",
    "Test set accuracy:\n",
    "Percent Type I errors  (False POS): 0.044171779141104296\n",
    "Percent Type II errors (False NEG): 0.2134969325153374\n"
   ]
  },
  {
   "cell_type": "code",
   "execution_count": 735,
   "metadata": {},
   "outputs": [
    {
     "name": "stdout",
     "output_type": "stream",
     "text": [
      "Training set accuracy:\n",
      "Percent Type I errors  (False POS): 0.03314238952536825\n",
      "Percent Type II errors (False NEG): 0.2133115111838516\n",
      "\n",
      "Test set accuracy:\n",
      "Percent Type I errors  (False POS): 0.044171779141104296\n",
      "Percent Type II errors (False NEG): 0.2134969325153374\n"
     ]
    }
   ],
   "source": [
    "# We'll make 156 iterations, use 2-deep trees, and set our loss function.\n",
    "# https://machinelearningmastery.com/configure-gradient-boosting-algorithm/\n",
    "# https://www.analyticsvidhya.com/blog/2016/02/complete-guide-parameter-tuning-gradient-boosting-gbm-python/\n",
    "\n",
    "params2 = {'criterion':'friedman_mse',\n",
    "           'init': None,\n",
    "           'learning_rate': 0.05,\n",
    "           'loss': 'deviance',\n",
    "           'max_depth': 2,\n",
    "            'max_features': 'sqrt',\n",
    "           'max_leaf_nodes': None,\n",
    "           'min_impurity_decrease': 0.0, 'min_impurity_split': None,\n",
    "            'min_samples_leaf': 1, 'min_samples_split': 600,\n",
    "            'min_weight_fraction_leaf': 0.0, 'n_estimators': 156,\n",
    "            'n_iter_no_change': None, 'presort': 'auto', 'random_state': 10,\n",
    "            'subsample': 0.8, 'tol': 0.0001, 'validation_fraction': 0.1,\n",
    "             'verbose': 0, 'warm_start': False}\n",
    "\n",
    "# Initialize and fit the model.\n",
    "clf2 = ensemble.GradientBoostingClassifier(**params2)\n",
    "clf2.fit(X_train2, y_train2)\n",
    "\n",
    "predict_train2 = clf2.predict(X_train2)\n",
    "predict_test2 = clf2.predict(X_test2)\n",
    "\n",
    "# Accuracy tables.\n",
    "table_train2 = pd.crosstab(y_train2, predict_train2, margins=True)\n",
    "table_test2 = pd.crosstab(y_test2, predict_test2, margins=True)\n",
    "\n",
    "train_tI_errors2 = table_train2.loc[0.0,1.0] / table_train2.loc['All','All']\n",
    "train_tII_errors2 = table_train2.loc[1.0,0.0] / table_train2.loc['All','All']\n",
    "\n",
    "test_tI_errors2 = table_test2.loc[0.0,1.0]/table_test2.loc['All','All']\n",
    "test_tII_errors2 = table_test2.loc[1.0,0.0]/table_test2.loc['All','All']\n",
    "\n",
    "print((\n",
    "    'Training set accuracy:\\n'\n",
    "    'Percent Type I errors  (False POS): {}\\n'\n",
    "    'Percent Type II errors (False NEG): {}\\n\\n'\n",
    "    'Test set accuracy:\\n'\n",
    "    'Percent Type I errors  (False POS): {}\\n'\n",
    "    'Percent Type II errors (False NEG): {}'\n",
    ").format(train_tI_errors2, train_tII_errors2, test_tI_errors2, test_tII_errors2))\n"
   ]
  },
  {
   "cell_type": "markdown",
   "metadata": {},
   "source": [
    "## Will test out how adding additional features according to age affects accuracy\n",
    "\n",
    "Since very young people are probably less likely to have gotten married yet and very old people are likely to have lost their spouse, will test to see if catgories of age are better predictors of having a partner.\n",
    "\n",
    "- will create categories of age by 10 year blocks"
   ]
  },
  {
   "cell_type": "code",
   "execution_count": 529,
   "metadata": {},
   "outputs": [
    {
     "data": {
      "image/png": "[encoded data removed]",
      "text/plain": [
       "<Figure size 432x288 with 1 Axes>"
      ]
     },
     "metadata": {},
     "output_type": "display_data"
    }
   ],
   "source": [
    "# Check out distribution of age.\n",
    "sns.distplot(df['agea']);"
   ]
  },
  {
   "cell_type": "code",
   "execution_count": 599,
   "metadata": {},
   "outputs": [
    {
     "data": {
      "text/html": [
       "<div>\n",
       "<style scoped>\n",
       "    .dataframe tbody tr th:only-of-type {\n",
       "        vertical-align: middle;\n",
       "    }\n",
       "\n",
       "    .dataframe tbody tr th {\n",
       "        vertical-align: top;\n",
       "    }\n",
       "\n",
       "    .dataframe thead th {\n",
       "        text-align: right;\n",
       "    }\n",
       "</style>\n",
       "<table border=\"1\" class=\"dataframe\">\n",
       "  <thead>\n",
       "    <tr style=\"text-align: right;\">\n",
       "      <th></th>\n",
       "      <th>count</th>\n",
       "      <th>mean</th>\n",
       "      <th>std</th>\n",
       "      <th>min</th>\n",
       "      <th>25%</th>\n",
       "      <th>50%</th>\n",
       "      <th>75%</th>\n",
       "      <th>max</th>\n",
       "    </tr>\n",
       "    <tr>\n",
       "      <th>partner</th>\n",
       "      <th></th>\n",
       "      <th></th>\n",
       "      <th></th>\n",
       "      <th></th>\n",
       "      <th></th>\n",
       "      <th></th>\n",
       "      <th></th>\n",
       "      <th></th>\n",
       "    </tr>\n",
       "  </thead>\n",
       "  <tbody>\n",
       "    <tr>\n",
       "      <th>1.0</th>\n",
       "      <td>5013.0</td>\n",
       "      <td>50.979254</td>\n",
       "      <td>14.954612</td>\n",
       "      <td>18.0</td>\n",
       "      <td>39.0</td>\n",
       "      <td>50.0</td>\n",
       "      <td>62.0</td>\n",
       "      <td>95.0</td>\n",
       "    </tr>\n",
       "    <tr>\n",
       "      <th>2.0</th>\n",
       "      <td>3134.0</td>\n",
       "      <td>41.316528</td>\n",
       "      <td>21.380044</td>\n",
       "      <td>15.0</td>\n",
       "      <td>22.0</td>\n",
       "      <td>36.0</td>\n",
       "      <td>58.0</td>\n",
       "      <td>114.0</td>\n",
       "    </tr>\n",
       "  </tbody>\n",
       "</table>\n",
       "</div>"
      ],
      "text/plain": [
       "          count       mean        std   min   25%   50%   75%    max\n",
       "partner                                                             \n",
       "1.0      5013.0  50.979254  14.954612  18.0  39.0  50.0  62.0   95.0\n",
       "2.0      3134.0  41.316528  21.380044  15.0  22.0  36.0  58.0  114.0"
      ]
     },
     "execution_count": 599,
     "metadata": {},
     "output_type": "execute_result"
    }
   ],
   "source": [
    "# Note: am unsure of coding meaning since ESS does not match the categories of 1 and 2. For purposes of assignment,\n",
    "# guessing that 1 = partner and 2 = no partner\n",
    "# https://medium.com/@msalmon00/helpful-python-code-snippets-for-data-exploration-in-pandas-b7c5aed5ecb9\n",
    "\n",
    "# Get age stats by partner categories\n",
    "df.groupby('partner').agea.describe()\n",
    "\n",
    "# https://stackoverflow.com/questions/17679089/pandas-dataframe-groupby-two-columns-and-get-counts\n",
    "#partner_status_by_age = df_age_breakdown.groupby(['partner', 'agea_under_20', 'agea_20_29', 'agea_30_39', 'agea_40_49', 'agea_50_59', 'agea_60_69', 'agea_70_79', 'agea_80_89']).size()"
   ]
  },
  {
   "cell_type": "code",
   "execution_count": 537,
   "metadata": {},
   "outputs": [],
   "source": [
    "df_age_breakdown = df"
   ]
  },
  {
   "cell_type": "code",
   "execution_count": 538,
   "metadata": {},
   "outputs": [],
   "source": [
    "df_age_breakdown['agea_under_20'] = np.where(df['agea'] < 20, 1, 0)\n",
    "df_age_breakdown['agea_20_29'] = np.where(((df['agea'] >= 20) & (df['agea'] < 30)), 1, 0)\n",
    "df_age_breakdown['agea_30_39'] = np.where(((df['agea'] >= 30) & (df['agea'] < 40)), 1, 0)\n",
    "df_age_breakdown['agea_40_49'] = np.where(((df['agea'] >= 40) & (df['agea'] < 50)), 1, 0)\n",
    "df_age_breakdown['agea_50_59'] = np.where(((df['agea'] >= 50) & (df['agea'] < 60)), 1, 0)\n",
    "df_age_breakdown['agea_60_69'] = np.where(((df['agea'] >= 60) & (df['agea'] < 70)), 1, 0)\n",
    "df_age_breakdown['agea_70_79'] = np.where(((df['agea'] >= 70) & (df['agea'] < 80)), 1, 0)\n",
    "df_age_breakdown['agea_80_89'] = np.where(((df['agea'] >= 80) & (df['agea'] < 90)), 1, 0)\n",
    "df_age_breakdown['agea_90_99'] = np.where(((df['agea'] >= 90) & (df['agea'] < 100)), 1, 0)\n",
    "df_age_breakdown['agea_over_100'] = np.where(df['agea'] > 99, 1, 0)"
   ]
  },
  {
   "cell_type": "code",
   "execution_count": 539,
   "metadata": {},
   "outputs": [
    {
     "data": {
      "text/html": [
       "<div>\n",
       "<style scoped>\n",
       "    .dataframe tbody tr th:only-of-type {\n",
       "        vertical-align: middle;\n",
       "    }\n",
       "\n",
       "    .dataframe tbody tr th {\n",
       "        vertical-align: top;\n",
       "    }\n",
       "\n",
       "    .dataframe thead th {\n",
       "        text-align: right;\n",
       "    }\n",
       "</style>\n",
       "<table border=\"1\" class=\"dataframe\">\n",
       "  <thead>\n",
       "    <tr style=\"text-align: right;\">\n",
       "      <th></th>\n",
       "      <th>cntry</th>\n",
       "      <th>idno</th>\n",
       "      <th>year</th>\n",
       "      <th>tvtot</th>\n",
       "      <th>ppltrst</th>\n",
       "      <th>pplfair</th>\n",
       "      <th>pplhlp</th>\n",
       "      <th>happy</th>\n",
       "      <th>sclmeet</th>\n",
       "      <th>sclact</th>\n",
       "      <th>...</th>\n",
       "      <th>agea_under_20</th>\n",
       "      <th>agea_20_29</th>\n",
       "      <th>agea_30_39</th>\n",
       "      <th>agea_40_49</th>\n",
       "      <th>agea_50_59</th>\n",
       "      <th>agea_60_69</th>\n",
       "      <th>agea_70_79</th>\n",
       "      <th>agea_80_89</th>\n",
       "      <th>agea_90_99</th>\n",
       "      <th>agea_over_100</th>\n",
       "    </tr>\n",
       "  </thead>\n",
       "  <tbody>\n",
       "    <tr>\n",
       "      <th>0</th>\n",
       "      <td>CH</td>\n",
       "      <td>5.0</td>\n",
       "      <td>6</td>\n",
       "      <td>3.0</td>\n",
       "      <td>3.0</td>\n",
       "      <td>10.0</td>\n",
       "      <td>5.0</td>\n",
       "      <td>8.0</td>\n",
       "      <td>5.0</td>\n",
       "      <td>4.0</td>\n",
       "      <td>...</td>\n",
       "      <td>0</td>\n",
       "      <td>0</td>\n",
       "      <td>0</td>\n",
       "      <td>0</td>\n",
       "      <td>0</td>\n",
       "      <td>1</td>\n",
       "      <td>0</td>\n",
       "      <td>0</td>\n",
       "      <td>0</td>\n",
       "      <td>0</td>\n",
       "    </tr>\n",
       "    <tr>\n",
       "      <th>1</th>\n",
       "      <td>CH</td>\n",
       "      <td>25.0</td>\n",
       "      <td>6</td>\n",
       "      <td>6.0</td>\n",
       "      <td>5.0</td>\n",
       "      <td>7.0</td>\n",
       "      <td>5.0</td>\n",
       "      <td>9.0</td>\n",
       "      <td>3.0</td>\n",
       "      <td>2.0</td>\n",
       "      <td>...</td>\n",
       "      <td>0</td>\n",
       "      <td>0</td>\n",
       "      <td>0</td>\n",
       "      <td>0</td>\n",
       "      <td>1</td>\n",
       "      <td>0</td>\n",
       "      <td>0</td>\n",
       "      <td>0</td>\n",
       "      <td>0</td>\n",
       "      <td>0</td>\n",
       "    </tr>\n",
       "    <tr>\n",
       "      <th>2</th>\n",
       "      <td>CH</td>\n",
       "      <td>26.0</td>\n",
       "      <td>6</td>\n",
       "      <td>1.0</td>\n",
       "      <td>8.0</td>\n",
       "      <td>8.0</td>\n",
       "      <td>8.0</td>\n",
       "      <td>7.0</td>\n",
       "      <td>6.0</td>\n",
       "      <td>3.0</td>\n",
       "      <td>...</td>\n",
       "      <td>0</td>\n",
       "      <td>1</td>\n",
       "      <td>0</td>\n",
       "      <td>0</td>\n",
       "      <td>0</td>\n",
       "      <td>0</td>\n",
       "      <td>0</td>\n",
       "      <td>0</td>\n",
       "      <td>0</td>\n",
       "      <td>0</td>\n",
       "    </tr>\n",
       "    <tr>\n",
       "      <th>3</th>\n",
       "      <td>CH</td>\n",
       "      <td>28.0</td>\n",
       "      <td>6</td>\n",
       "      <td>4.0</td>\n",
       "      <td>6.0</td>\n",
       "      <td>6.0</td>\n",
       "      <td>7.0</td>\n",
       "      <td>10.0</td>\n",
       "      <td>6.0</td>\n",
       "      <td>2.0</td>\n",
       "      <td>...</td>\n",
       "      <td>0</td>\n",
       "      <td>0</td>\n",
       "      <td>0</td>\n",
       "      <td>0</td>\n",
       "      <td>0</td>\n",
       "      <td>1</td>\n",
       "      <td>0</td>\n",
       "      <td>0</td>\n",
       "      <td>0</td>\n",
       "      <td>0</td>\n",
       "    </tr>\n",
       "    <tr>\n",
       "      <th>4</th>\n",
       "      <td>CH</td>\n",
       "      <td>29.0</td>\n",
       "      <td>6</td>\n",
       "      <td>5.0</td>\n",
       "      <td>6.0</td>\n",
       "      <td>7.0</td>\n",
       "      <td>5.0</td>\n",
       "      <td>8.0</td>\n",
       "      <td>7.0</td>\n",
       "      <td>2.0</td>\n",
       "      <td>...</td>\n",
       "      <td>0</td>\n",
       "      <td>0</td>\n",
       "      <td>0</td>\n",
       "      <td>0</td>\n",
       "      <td>1</td>\n",
       "      <td>0</td>\n",
       "      <td>0</td>\n",
       "      <td>0</td>\n",
       "      <td>0</td>\n",
       "      <td>0</td>\n",
       "    </tr>\n",
       "  </tbody>\n",
       "</table>\n",
       "<p>5 rows × 23 columns</p>\n",
       "</div>"
      ],
      "text/plain": [
       "  cntry  idno  year  tvtot  ppltrst  pplfair  pplhlp  happy  sclmeet  sclact  \\\n",
       "0    CH   5.0     6    3.0      3.0     10.0     5.0    8.0      5.0     4.0   \n",
       "1    CH  25.0     6    6.0      5.0      7.0     5.0    9.0      3.0     2.0   \n",
       "2    CH  26.0     6    1.0      8.0      8.0     8.0    7.0      6.0     3.0   \n",
       "3    CH  28.0     6    4.0      6.0      6.0     7.0   10.0      6.0     2.0   \n",
       "4    CH  29.0     6    5.0      6.0      7.0     5.0    8.0      7.0     2.0   \n",
       "\n",
       "       ...        agea_under_20  agea_20_29  agea_30_39  agea_40_49  \\\n",
       "0      ...                    0           0           0           0   \n",
       "1      ...                    0           0           0           0   \n",
       "2      ...                    0           1           0           0   \n",
       "3      ...                    0           0           0           0   \n",
       "4      ...                    0           0           0           0   \n",
       "\n",
       "   agea_50_59  agea_60_69  agea_70_79  agea_80_89  agea_90_99  agea_over_100  \n",
       "0           0           1           0           0           0              0  \n",
       "1           1           0           0           0           0              0  \n",
       "2           0           0           0           0           0              0  \n",
       "3           0           1           0           0           0              0  \n",
       "4           1           0           0           0           0              0  \n",
       "\n",
       "[5 rows x 23 columns]"
      ]
     },
     "execution_count": 539,
     "metadata": {},
     "output_type": "execute_result"
    }
   ],
   "source": [
    "df_age_breakdown.head()"
   ]
  },
  {
   "cell_type": "code",
   "execution_count": 608,
   "metadata": {},
   "outputs": [
    {
     "data": {
      "text/html": [
       "<div>\n",
       "<style scoped>\n",
       "    .dataframe tbody tr th:only-of-type {\n",
       "        vertical-align: middle;\n",
       "    }\n",
       "\n",
       "    .dataframe tbody tr th {\n",
       "        vertical-align: top;\n",
       "    }\n",
       "\n",
       "    .dataframe thead th {\n",
       "        text-align: right;\n",
       "    }\n",
       "</style>\n",
       "<table border=\"1\" class=\"dataframe\">\n",
       "  <thead>\n",
       "    <tr style=\"text-align: right;\">\n",
       "      <th></th>\n",
       "      <th>agea_under_20</th>\n",
       "      <th>agea_20_29</th>\n",
       "      <th>agea_30_39</th>\n",
       "      <th>agea_40_49</th>\n",
       "      <th>agea_50_59</th>\n",
       "      <th>agea_60_69</th>\n",
       "      <th>agea_70_79</th>\n",
       "      <th>agea_80_89</th>\n",
       "      <th>agea_90_99</th>\n",
       "      <th>agea_over_100</th>\n",
       "    </tr>\n",
       "    <tr>\n",
       "      <th>partner</th>\n",
       "      <th></th>\n",
       "      <th></th>\n",
       "      <th></th>\n",
       "      <th></th>\n",
       "      <th></th>\n",
       "      <th></th>\n",
       "      <th></th>\n",
       "      <th></th>\n",
       "      <th></th>\n",
       "      <th></th>\n",
       "    </tr>\n",
       "  </thead>\n",
       "  <tbody>\n",
       "    <tr>\n",
       "      <th>1.0</th>\n",
       "      <td>7</td>\n",
       "      <td>347</td>\n",
       "      <td>916</td>\n",
       "      <td>1151</td>\n",
       "      <td>1069</td>\n",
       "      <td>865</td>\n",
       "      <td>525</td>\n",
       "      <td>121</td>\n",
       "      <td>12</td>\n",
       "      <td>0</td>\n",
       "    </tr>\n",
       "    <tr>\n",
       "      <th>2.0</th>\n",
       "      <td>541</td>\n",
       "      <td>756</td>\n",
       "      <td>389</td>\n",
       "      <td>350</td>\n",
       "      <td>350</td>\n",
       "      <td>324</td>\n",
       "      <td>240</td>\n",
       "      <td>156</td>\n",
       "      <td>25</td>\n",
       "      <td>3</td>\n",
       "    </tr>\n",
       "  </tbody>\n",
       "</table>\n",
       "</div>"
      ],
      "text/plain": [
       "         agea_under_20  agea_20_29  agea_30_39  agea_40_49  agea_50_59  \\\n",
       "partner                                                                  \n",
       "1.0                  7         347         916        1151        1069   \n",
       "2.0                541         756         389         350         350   \n",
       "\n",
       "         agea_60_69  agea_70_79  agea_80_89  agea_90_99  agea_over_100  \n",
       "partner                                                                 \n",
       "1.0             865         525         121          12              0  \n",
       "2.0             324         240         156          25              3  "
      ]
     },
     "execution_count": 608,
     "metadata": {},
     "output_type": "execute_result"
    }
   ],
   "source": [
    "# See age categories by partner status\n",
    "df_age_by_partner_cat = df_age_breakdown[['partner', 'agea_under_20', 'agea_20_29', 'agea_30_39', 'agea_40_49','agea_50_59', 'agea_60_69', 'agea_70_79', 'agea_80_89', 'agea_90_99', 'agea_over_100' ]]\n",
    "df_age_by_partner_cat.groupby(by=['partner']).sum()\n",
    "\n"
   ]
  },
  {
   "cell_type": "code",
   "execution_count": 606,
   "metadata": {},
   "outputs": [],
   "source": [
    "# Since there seem to be 2 natural categories of single/partnered according to age\n",
    "# will create these cats now (single = under 30 and 80 and over; partnered = 31 yrs - 79 yrs)\n",
    "\n",
    "df_age_breakdown['agea_single'] = np.where(((df['agea'] < 30) & (df['agea'] > 79)), 1, 0)\n",
    "df_age_breakdown['agea_partnered'] = np.where(((df['agea'] >= 30) & (df['agea'] <= 79)), 1, 0)\n"
   ]
  },
  {
   "cell_type": "markdown",
   "metadata": {},
   "source": [
    "## New baseline - with added features of age categories"
   ]
  },
  {
   "cell_type": "code",
   "execution_count": 743,
   "metadata": {},
   "outputs": [],
   "source": [
    "# Definine modified outcome and predictors.\n",
    "# Set our outcome to 0 and 1.\n",
    "y3 = df_age_breakdown['partner'] - 1\n",
    "X3 = df_age_breakdown.loc[:, ~df_age_breakdown.columns.isin(['partner', 'cntry', 'year', 'idno', 'agea_single', 'agea_under_20', 'agea_20_29', 'agea_30_39', 'agea_40_49', 'agea_50_59', 'agea_60_69', 'agea_70_79', 'agea_80_89', 'agea_90_99', 'agea_over_100'])]\n",
    "\n",
    "# Remove categorical variable 'country' into dummies.\n",
    "#X3 = pd.concat([X3, pd.get_dummies(df_age_breakdown['cntry'])], axis=1)\n",
    "\n",
    "# Create training and test sets\n",
    "offset2 = int(X3.shape[0] * 0.9)\n",
    "\n",
    "# Put 90% of the data in the training set.\n",
    "X_train3, y_train3 = X3[:offset], y3[:offset]\n",
    "\n",
    "# And put 30% in the test set.\n",
    "X_test3, y_test3 = X3[offset:], y3[offset:]\n"
   ]
  },
  {
   "cell_type": "code",
   "execution_count": 744,
   "metadata": {},
   "outputs": [],
   "source": [
    "def modelfit2(alg, df, predictors, performCV=True, printFeatureImportance=True, cv_folds=5):\n",
    "    \n",
    "    #Fit the algorithm on the data\n",
    "    alg.fit(X_train3, y_train3)\n",
    "        \n",
    "    #Predict training set:\n",
    "    df_predictions = alg.predict(X_train3)\n",
    "    df_predprob = alg.predict_proba(X_train3)[:,1]\n",
    "    \n",
    "    #Perform cross-validation:\n",
    "    if performCV:\n",
    "        cv_score = cross_val_score(alg, X_train3, y_train3, cv=cv_folds, scoring='roc_auc')\n",
    "    \n",
    "    #Print model report:\n",
    "    print(\"\\nModel Report\")\n",
    "    print(\"Accuracy : %.4g\" % metrics.accuracy_score(y_train3.values, df_predictions))\n",
    "    print(\"AUC Score (Train): %f\" % metrics.roc_auc_score(y_train3, df_predprob))\n",
    "    \n",
    "    if performCV:\n",
    "        print(\"CV Score : Mean - %.7g | Std - %.7g | Min - %.7g | Max - %.7g\" % (np.mean(cv_score),np.std(cv_score),np.min(cv_score),np.max(cv_score)))\n",
    "        \n",
    "    #Print Feature Importance:\n",
    "    if printFeatureImportance:\n",
    "        feat_imp = pd.Series(alg.feature_importances_, predictors).sort_values(ascending=False)\n",
    "        feat_imp.plot(kind='bar', title='Feature Importances')\n",
    "        plt.ylabel('Feature Importance Score')"
   ]
  },
  {
   "cell_type": "markdown",
   "metadata": {},
   "source": [
    "## Baseline with added feature: agea_partnered"
   ]
  },
  {
   "cell_type": "code",
   "execution_count": 745,
   "metadata": {},
   "outputs": [
    {
     "name": "stdout",
     "output_type": "stream",
     "text": [
      "\n",
      "Model Report\n",
      "Accuracy : 0.7743\n",
      "AUC Score (Train): 0.819140\n",
      "CV Score : Mean - 0.7860727 | Std - 0.02064709 | Min - 0.7540883 | Max - 0.8149981\n"
     ]
    },
    {
     "data": {
      "image/png": "[encoded data removed]",
      "text/plain": [
       "<Figure size 432x288 with 1 Axes>"
      ]
     },
     "metadata": {},
     "output_type": "display_data"
    }
   ],
   "source": [
    "#Choose all predictors except target & IDcols\n",
    "predictors = [x for x in X_train3.columns if x not in df_age_breakdown[['partner', 'cntry', 'year', 'idno', 'agea_single', 'agea_under_20', 'agea_20_29', 'agea_30_39', 'agea_40_49', 'agea_50_59', 'agea_60_69', 'agea_70_79', 'agea_80_89', 'agea_90_99', 'agea_over_100']]]\n",
    "\n",
    "gbm000 = ensemble.GradientBoostingClassifier(random_state=10)\n",
    "modelfit2(gbm000, df_age_breakdown, predictors)"
   ]
  },
  {
   "cell_type": "code",
   "execution_count": 746,
   "metadata": {},
   "outputs": [
    {
     "data": {
      "text/plain": [
       "(GradientBoostingClassifier(criterion='friedman_mse', init=None,\n",
       "               learning_rate=0.1, loss='deviance', max_depth=8,\n",
       "               max_features='sqrt', max_leaf_nodes=None,\n",
       "               min_impurity_decrease=0.0, min_impurity_split=None,\n",
       "               min_samples_leaf=50, min_samples_split=500,\n",
       "               min_weight_fraction_leaf=0.0, n_estimators=92,\n",
       "               n_iter_no_change=None, presort='auto', random_state=10,\n",
       "               subsample=0.8, tol=0.0001, validation_fraction=0.1,\n",
       "               verbose=0, warm_start=False),\n",
       " {'n_estimators': 92},\n",
       " 0.7834158164105284)"
      ]
     },
     "execution_count": 746,
     "metadata": {},
     "output_type": "execute_result"
    }
   ],
   "source": [
    "#Choose all predictors except target & IDcols\n",
    "predictors = [x for x in df_age_breakdown.columns if x not in df_age_breakdown[['partner', 'cntry', 'idno', 'year', 'agea_single', 'agea_under_20', 'agea_20_29', 'agea_30_39', 'agea_40_49', 'agea_50_59', 'agea_60_69', 'agea_70_79', 'agea_80_89', 'agea_90_99', 'agea_over_100']]]\n",
    "\n",
    "param_test4 = {'n_estimators':range(80,111,2)}\n",
    "\n",
    "gsearch4 = GridSearchCV(estimator = ensemble.GradientBoostingClassifier(learning_rate=0.1, \n",
    "                                                               min_samples_split=500,min_samples_leaf=50,\n",
    "                                                               max_depth=8,max_features='sqrt',subsample=0.8,\n",
    "                                                               random_state=10), \n",
    "param_grid = param_test4, scoring='roc_auc',n_jobs=4,iid=False, cv=5)\n",
    "\n",
    "gsearch4.fit(X_train3, y_train3)\n",
    "gsearch4.best_estimator_, gsearch4.best_params_, gsearch4.best_score_"
   ]
  },
  {
   "cell_type": "markdown",
   "metadata": {},
   "source": [
    "## Tune Tree Specific Parameters\n",
    "- Tune max_depth and num_samples_split\n",
    "- Tune min_samples_leaf\n",
    "- Tune max_features"
   ]
  },
  {
   "cell_type": "code",
   "execution_count": 747,
   "metadata": {},
   "outputs": [
    {
     "data": {
      "text/plain": [
       "(GradientBoostingClassifier(criterion='friedman_mse', init=None,\n",
       "               learning_rate=0.1, loss='deviance', max_depth=3,\n",
       "               max_features='sqrt', max_leaf_nodes=None,\n",
       "               min_impurity_decrease=0.0, min_impurity_split=None,\n",
       "               min_samples_leaf=1, min_samples_split=2,\n",
       "               min_weight_fraction_leaf=0.0, n_estimators=92,\n",
       "               n_iter_no_change=None, presort='auto', random_state=10,\n",
       "               subsample=0.8, tol=0.0001, validation_fraction=0.1,\n",
       "               verbose=0, warm_start=False),\n",
       " {'max_depth': 3, 'min_samples_split': 2},\n",
       " 0.7861947035045708)"
      ]
     },
     "execution_count": 747,
     "metadata": {},
     "output_type": "execute_result"
    }
   ],
   "source": [
    "# max depth and num_samples_split\n",
    "param_test5 = {'max_depth':range(1,12,1), 'min_samples_split':range(2, 201,25)}\n",
    "gsearch5 = GridSearchCV(estimator = ensemble.GradientBoostingClassifier(learning_rate=0.1, n_estimators=92,\n",
    "                                                                        max_features='sqrt', subsample=0.8,\n",
    "                                                                        random_state=10), \n",
    "param_grid = param_test5, scoring='roc_auc',n_jobs=4,iid=False, cv=5)\n",
    "\n",
    "gsearch5.fit(X_train3, y_train3)\n",
    "gsearch5.best_estimator_, gsearch5.best_params_, gsearch5.best_score_"
   ]
  },
  {
   "cell_type": "code",
   "execution_count": 750,
   "metadata": {},
   "outputs": [
    {
     "data": {
      "text/plain": [
       "(GradientBoostingClassifier(criterion='friedman_mse', init=None,\n",
       "               learning_rate=0.1, loss='deviance', max_depth=3,\n",
       "               max_features='sqrt', max_leaf_nodes=None,\n",
       "               min_impurity_decrease=0.0, min_impurity_split=None,\n",
       "               min_samples_leaf=1, min_samples_split=8,\n",
       "               min_weight_fraction_leaf=0.0, n_estimators=92,\n",
       "               n_iter_no_change=None, presort='auto', random_state=10,\n",
       "               subsample=0.8, tol=0.0001, validation_fraction=0.1,\n",
       "               verbose=0, warm_start=False),\n",
       " {'min_samples_leaf': 1, 'min_samples_split': 8},\n",
       " 0.7867972936928277)"
      ]
     },
     "execution_count": 750,
     "metadata": {},
     "output_type": "execute_result"
    }
   ],
   "source": [
    "param_test6= {'min_samples_split':range(7,10,1), 'min_samples_leaf':range(1,6,1)}\n",
    "gsearch6 = GridSearchCV(estimator = ensemble.GradientBoostingClassifier(learning_rate=0.1, n_estimators=92,max_depth=3,\n",
    "                                                               max_features='sqrt', subsample=0.8, random_state=10), \n",
    "param_grid = param_test6, scoring='roc_auc',n_jobs=4,iid=False, cv=5)\n",
    "\n",
    "gsearch6.fit(X_train3, y_train3)\n",
    "gsearch6.best_estimator_, gsearch6.best_params_, gsearch6.best_score_"
   ]
  },
  {
   "cell_type": "code",
   "execution_count": 751,
   "metadata": {},
   "outputs": [
    {
     "name": "stdout",
     "output_type": "stream",
     "text": [
      "\n",
      "Model Report\n",
      "Accuracy : 0.7662\n",
      "AUC Score (Train): 0.811564\n",
      "CV Score : Mean - 0.7867973 | Std - 0.02118536 | Min - 0.75519 | Max - 0.8172144\n"
     ]
    },
    {
     "data": {
      "image/png": "[encoded data removed]",
      "text/plain": [
       "<Figure size 432x288 with 1 Axes>"
      ]
     },
     "metadata": {},
     "output_type": "display_data"
    }
   ],
   "source": [
    "#Choose all predictors except target & IDcols\n",
    "predictors = [x for x in X_train3.columns if x not in df_age_breakdown[['partner', 'cntry', 'year', 'idno', 'agea_single', 'agea_under_20', 'agea_20_29', 'agea_30_39', 'agea_40_49', 'agea_50_59', 'agea_60_69', 'agea_70_79', 'agea_80_89', 'agea_90_99', 'agea_over_100']]]\n",
    "\n",
    "modelfit2(gsearch6.best_estimator_, df_age_breakdown, predictors)"
   ]
  },
  {
   "cell_type": "markdown",
   "metadata": {},
   "source": [
    "## Tune Max Features"
   ]
  },
  {
   "cell_type": "code",
   "execution_count": 758,
   "metadata": {},
   "outputs": [
    {
     "data": {
      "text/plain": [
       "(GradientBoostingClassifier(criterion='friedman_mse', init=None,\n",
       "               learning_rate=0.1, loss='deviance', max_depth=3,\n",
       "               max_features=0.6, max_leaf_nodes=None,\n",
       "               min_impurity_decrease=0.0, min_impurity_split=None,\n",
       "               min_samples_leaf=1, min_samples_split=8,\n",
       "               min_weight_fraction_leaf=0.0, n_estimators=92,\n",
       "               n_iter_no_change=None, presort='auto', random_state=10,\n",
       "               subsample=0.8, tol=0.0001, validation_fraction=0.1,\n",
       "               verbose=0, warm_start=False),\n",
       " {'max_features': 0.6},\n",
       " 0.787089690881408)"
      ]
     },
     "execution_count": 758,
     "metadata": {},
     "output_type": "execute_result"
    }
   ],
   "source": [
    "param_test6a = {'max_features': (.5, .6, .7, .75, .8, .9)}\n",
    "\n",
    "gsearch6a = GridSearchCV(estimator = ensemble.GradientBoostingClassifier(learning_rate=0.1, n_estimators=92,max_depth=3, \n",
    "                                                                min_samples_split=8, min_samples_leaf=1, subsample=0.8, \n",
    "                                                                random_state=10),\n",
    "param_grid = param_test6a, scoring='roc_auc',n_jobs=4,iid=False, cv=5)\n",
    "gsearch6a.fit(X_train3, y_train3)\n",
    "gsearch6a.best_estimator_, gsearch6a.best_params_, gsearch6a.best_score_"
   ]
  },
  {
   "cell_type": "code",
   "execution_count": 760,
   "metadata": {},
   "outputs": [
    {
     "name": "stdout",
     "output_type": "stream",
     "text": [
      "\n",
      "Model Report\n",
      "Accuracy : 0.7728\n",
      "AUC Score (Train): 0.817651\n",
      "CV Score : Mean - 0.7870897 | Std - 0.02041775 | Min - 0.7539568 | Max - 0.8147185\n"
     ]
    },
    {
     "data": {
      "image/png": "[encoded data removed]",
      "text/plain": [
       "<Figure size 432x288 with 1 Axes>"
      ]
     },
     "metadata": {},
     "output_type": "display_data"
    }
   ],
   "source": [
    "#Choose all predictors except target & IDcols\n",
    "predictors = [x for x in X_train3.columns if x not in df_age_breakdown[['partner', 'cntry', 'year', 'idno', 'agea_single', 'agea_under_20', 'agea_20_29', 'agea_30_39', 'agea_40_49', 'agea_50_59', 'agea_60_69', 'agea_70_79', 'agea_80_89', 'agea_90_99', 'agea_over_100']]]\n",
    "\n",
    "modelfit2(gsearch6a.best_estimator_, df_age_breakdown, predictors)"
   ]
  },
  {
   "cell_type": "markdown",
   "metadata": {},
   "source": [
    "## Tune Subsampling"
   ]
  },
  {
   "cell_type": "code",
   "execution_count": 761,
   "metadata": {},
   "outputs": [
    {
     "data": {
      "text/plain": [
       "(GradientBoostingClassifier(criterion='friedman_mse', init=None,\n",
       "               learning_rate=0.1, loss='deviance', max_depth=3,\n",
       "               max_features=0.6, max_leaf_nodes=None,\n",
       "               min_impurity_decrease=0.0, min_impurity_split=None,\n",
       "               min_samples_leaf=1, min_samples_split=8,\n",
       "               min_weight_fraction_leaf=0.0, n_estimators=92,\n",
       "               n_iter_no_change=None, presort='auto', random_state=10,\n",
       "               subsample=0.8, tol=0.0001, validation_fraction=0.1,\n",
       "               verbose=0, warm_start=False),\n",
       " {'subsample': 0.8},\n",
       " 0.787089690881408)"
      ]
     },
     "execution_count": 761,
     "metadata": {},
     "output_type": "execute_result"
    }
   ],
   "source": [
    "\n",
    "param_test6b = {'subsample':[0.6,0.7,0.75,0.8,0.85,0.9]}\n",
    "\n",
    "gsearch6b = GridSearchCV(estimator = ensemble.GradientBoostingClassifier(criterion='friedman_mse', init=None,\n",
    "               learning_rate=0.1, loss='deviance', max_depth=3,\n",
    "               max_features=0.6, max_leaf_nodes=None,\n",
    "               min_impurity_decrease=0.0, min_impurity_split=None,\n",
    "               min_samples_leaf=1, min_samples_split=8,\n",
    "               min_weight_fraction_leaf=0.0, n_estimators=92,\n",
    "               n_iter_no_change=None, presort='auto', random_state=10,\n",
    "               subsample=0.8, tol=0.0001, validation_fraction=0.1,\n",
    "               verbose=0, warm_start=False),\n",
    "param_grid = param_test6b, scoring='roc_auc',n_jobs=4,iid=False, cv=5)\n",
    "gsearch6b.fit(X_train3, y_train3)\n",
    "gsearch6b.best_estimator_, gsearch6b.best_params_, gsearch6b.best_score_"
   ]
  },
  {
   "cell_type": "code",
   "execution_count": 763,
   "metadata": {},
   "outputs": [
    {
     "name": "stdout",
     "output_type": "stream",
     "text": [
      "\n",
      "Model Report\n",
      "Accuracy : 0.7728\n",
      "AUC Score (Train): 0.817651\n",
      "CV Score : Mean - 0.7870897 | Std - 0.02041775 | Min - 0.7539568 | Max - 0.8147185\n"
     ]
    },
    {
     "data": {
      "image/png": "[encoded data removed]",
      "text/plain": [
       "<Figure size 432x288 with 1 Axes>"
      ]
     },
     "metadata": {},
     "output_type": "display_data"
    }
   ],
   "source": [
    "#Choose all predictors except target & IDcols\n",
    "predictors = [x for x in X_train3.columns if x not in df_age_breakdown[['partner', 'cntry', 'year', 'idno', 'agea_single', 'agea_under_20', 'agea_20_29', 'agea_30_39', 'agea_40_49', 'agea_50_59', 'agea_60_69', 'agea_70_79', 'agea_80_89', 'agea_90_99', 'agea_over_100']]]\n",
    "\n",
    "modelfit2(gsearch6b.best_estimator_, df_age_breakdown, predictors)"
   ]
  },
  {
   "cell_type": "code",
   "execution_count": 766,
   "metadata": {},
   "outputs": [
    {
     "name": "stdout",
     "output_type": "stream",
     "text": [
      "Training set accuracy:\n",
      "Percent Type I errors  (False POS): 0.04459901800327332\n",
      "Percent Type II errors (False NEG): 0.1891707583196945\n",
      "\n",
      "Test set accuracy:\n",
      "Percent Type I errors  (False POS): 0.06012269938650307\n",
      "Percent Type II errors (False NEG): 0.2\n"
     ]
    }
   ],
   "source": [
    "# We'll make 76 iterations, use 4-deep trees, and set our loss function.\n",
    "# https://machinelearningmastery.com/configure-gradient-boosting-algorithm/\n",
    "# https://www.analyticsvidhya.com/blog/2016/02/complete-guide-parameter-tuning-gradient-boosting-gbm-python/\n",
    "\n",
    "params3 = {'criterion':'friedman_mse',\n",
    "           'init': None,\n",
    "           'learning_rate': 0.1,\n",
    "           'loss': 'deviance',\n",
    "           'max_depth': 3,\n",
    "           'max_features':.6,\n",
    "           'max_leaf_nodes': None,\n",
    "           'min_impurity_decrease': 0.0, 'min_impurity_split': None,\n",
    "            'min_samples_leaf': 1, 'min_samples_split': 8,\n",
    "            'min_weight_fraction_leaf': 0.0, 'n_estimators': 92,\n",
    "            'n_iter_no_change': None, 'presort': 'auto', 'random_state': 10,\n",
    "            'subsample': 0.8, 'tol': 0.0001, 'validation_fraction': 0.1,\n",
    "             'verbose': 0, 'warm_start': False}\n",
    "\n",
    "# Initialize and fit the model.\n",
    "clf3 = ensemble.GradientBoostingClassifier(**params3)\n",
    "clf3.fit(X_train3, y_train3)\n",
    "\n",
    "predict_train3 = clf3.predict(X_train3)\n",
    "predict_test3 = clf3.predict(X_test3)\n",
    "\n",
    "# Accuracy tables.\n",
    "table_train3 = pd.crosstab(y_train3, predict_train3, margins=True)\n",
    "table_test3 = pd.crosstab(y_test, predict_test3, margins=True)\n",
    "\n",
    "train_tI_errors3 = table_train3.loc[0.0,1.0] / table_train3.loc['All','All']\n",
    "train_tII_errors3 = table_train3.loc[1.0,0.0] / table_train3.loc['All','All']\n",
    "\n",
    "test_tI_errors3 = table_test3.loc[0.0,1.0]/table_test3.loc['All','All']\n",
    "test_tII_errors3 = table_test3.loc[1.0,0.0]/table_test3.loc['All','All']\n",
    "\n",
    "print((\n",
    "    'Training set accuracy:\\n'\n",
    "    'Percent Type I errors  (False POS): {}\\n'\n",
    "    'Percent Type II errors (False NEG): {}\\n\\n'\n",
    "    'Test set accuracy:\\n'\n",
    "    'Percent Type I errors  (False POS): {}\\n'\n",
    "    'Percent Type II errors (False NEG): {}'\n",
    ").format(train_tI_errors3, train_tII_errors3, test_tI_errors3, test_tII_errors3))\n"
   ]
  },
  {
   "cell_type": "markdown",
   "metadata": {},
   "source": [
    "## Decrease learning rate and increase number of trees proportionally"
   ]
  },
  {
   "cell_type": "code",
   "execution_count": 769,
   "metadata": {},
   "outputs": [
    {
     "name": "stdout",
     "output_type": "stream",
     "text": [
      "\n",
      "Model Report\n",
      "Accuracy : 0.7714\n",
      "AUC Score (Train): 0.817658\n",
      "CV Score : Mean - 0.7869486 | Std - 0.01939806 | Min - 0.7564674 | Max - 0.8140033\n"
     ]
    },
    {
     "data": {
      "image/png": "[encoded data removed]",
      "text/plain": [
       "<Figure size 432x288 with 1 Axes>"
      ]
     },
     "metadata": {},
     "output_type": "display_data"
    }
   ],
   "source": [
    "predictors = [x for x in X_train3.columns if x not in df[['partner', 'cntry', 'year', 'idno', 'agea_single', 'agea_under_20', 'agea_20_29', 'agea_30_39', 'agea_40_49', 'agea_50_59', 'agea_60_69', 'agea_70_79', 'agea_80_89', 'agea_90_99', 'agea_over_100']]]\n",
    "gbm_tuned_2 = ensemble.GradientBoostingClassifier(criterion='friedman_mse', init=None,\n",
    "               learning_rate=0.05, loss='deviance', max_depth=3,\n",
    "               max_features=0.6, max_leaf_nodes=None,\n",
    "               min_impurity_decrease=0.0, min_impurity_split=None,\n",
    "               min_samples_leaf=1, min_samples_split=8,\n",
    "               min_weight_fraction_leaf=0.0, n_estimators=184,\n",
    "               n_iter_no_change=None, presort='auto', random_state=10,\n",
    "               subsample=0.8, tol=0.0001, validation_fraction=0.1,\n",
    "               verbose=0, warm_start=False)\n",
    "modelfit2(gbm_tuned_2, df, predictors)"
   ]
  },
  {
   "cell_type": "code",
   "execution_count": 770,
   "metadata": {},
   "outputs": [
    {
     "name": "stdout",
     "output_type": "stream",
     "text": [
      "Training set accuracy:\n",
      "Percent Type I errors  (False POS): 0.0447354064375341\n",
      "Percent Type II errors (False NEG): 0.18385160938352427\n",
      "\n",
      "Test set accuracy:\n",
      "Percent Type I errors  (False POS): 0.053987730061349694\n",
      "Percent Type II errors (False NEG): 0.19631901840490798\n"
     ]
    }
   ],
   "source": [
    "# We'll make 76 iterations, use 4-deep trees, and set our loss function.\n",
    "# https://machinelearningmastery.com/configure-gradient-boosting-algorithm/\n",
    "# https://www.analyticsvidhya.com/blog/2016/02/complete-guide-parameter-tuning-gradient-boosting-gbm-python/\n",
    "\n",
    "params3 = {'criterion':'friedman_mse',\n",
    "           'init': None,\n",
    "           'learning_rate': 0.05,\n",
    "           'loss': 'deviance',\n",
    "           'max_depth': 3,\n",
    "           'max_features':.6,\n",
    "           'max_leaf_nodes': None,\n",
    "           'min_impurity_decrease': 0.0, 'min_impurity_split': None,\n",
    "            'min_samples_leaf': 1, 'min_samples_split': 8,\n",
    "            'min_weight_fraction_leaf': 0.0, 'n_estimators': 184,\n",
    "            'n_iter_no_change': None, 'presort': 'auto', 'random_state': 10,\n",
    "            'subsample': 0.8, 'tol': 0.0001, 'validation_fraction': 0.1,\n",
    "             'verbose': 0, 'warm_start': False}\n",
    "\n",
    "# Initialize and fit the model.\n",
    "clf3 = ensemble.GradientBoostingClassifier(**params3)\n",
    "clf3.fit(X_train3, y_train3)\n",
    "\n",
    "predict_train3 = clf3.predict(X_train3)\n",
    "predict_test3 = clf3.predict(X_test3)\n",
    "\n",
    "# Accuracy tables.\n",
    "table_train3 = pd.crosstab(y_train3, predict_train3, margins=True)\n",
    "table_test3 = pd.crosstab(y_test, predict_test3, margins=True)\n",
    "\n",
    "train_tI_errors3 = table_train3.loc[0.0,1.0] / table_train3.loc['All','All']\n",
    "train_tII_errors3 = table_train3.loc[1.0,0.0] / table_train3.loc['All','All']\n",
    "\n",
    "test_tI_errors3 = table_test3.loc[0.0,1.0]/table_test3.loc['All','All']\n",
    "test_tII_errors3 = table_test3.loc[1.0,0.0]/table_test3.loc['All','All']\n",
    "\n",
    "print((\n",
    "    'Training set accuracy:\\n'\n",
    "    'Percent Type I errors  (False POS): {}\\n'\n",
    "    'Percent Type II errors (False NEG): {}\\n\\n'\n",
    "    'Test set accuracy:\\n'\n",
    "    'Percent Type I errors  (False POS): {}\\n'\n",
    "    'Percent Type II errors (False NEG): {}'\n",
    ").format(train_tI_errors3, train_tII_errors3, test_tI_errors3, test_tII_errors3))\n"
   ]
  },
  {
   "cell_type": "markdown",
   "metadata": {},
   "source": [
    "## Conclusion:\n",
    "\n",
    "Tuning n_estimators (# of trees), max depth, num_samples_split increased accuracy. For some reason, tuning max_features and subsampling did not seem to improve accuracy.  \n",
    "\n",
    "Prior to adding additional features, decreasing learning rate from .1 to .05 worsened Type I errors slightly and improved Type II errors slightly.\n",
    "\n",
    "Choosing which learning rate may be guided by criteria of what's more important - fewer false positives or fewer false negatives.\n",
    "\n",
    "Adding the additional feature (partnered feature) did not improve the accuracy - even when using a smaller learning rate of .05.\n",
    "\n",
    "Additional testing with features that might affect liklihood of partnership - such as gender or religious affiliation - might be potential next steps.\n",
    "\n",
    "Also, area to understand better: the importance of redistributing the feature imporantance so it's spread across more features. the value among variables."
   ]
  },
  {
   "cell_type": "code",
   "execution_count": null,
   "metadata": {},
   "outputs": [],
   "source": []
  }
 ],
 "metadata": {
  "hide_input": false,
  "kernelspec": {
   "display_name": "Python 3",
   "language": "python",
   "name": "python3"
  },
  "language_info": {
   "codemirror_mode": {
    "name": "ipython",
    "version": 3
   },
   "file_extension": ".py",
   "mimetype": "text/x-python",
   "name": "python",
   "nbconvert_exporter": "python",
   "pygments_lexer": "ipython3",
   "version": "3.6.4"
  },
  "toc": {
   "colors": {
    "hover_highlight": "#DAA520",
    "running_highlight": "#FF0000",
    "selected_highlight": "#FFD700"
   },
   "moveMenuLeft": true,
   "nav_menu": {
    "height": "59px",
    "width": "252px"
   },
   "navigate_menu": true,
   "number_sections": true,
   "sideBar": true,
   "threshold": 4,
   "toc_cell": false,
   "toc_section_display": "block",
   "toc_window_display": false
  }
 },
 "nbformat": 4,
 "nbformat_minor": 2
}
